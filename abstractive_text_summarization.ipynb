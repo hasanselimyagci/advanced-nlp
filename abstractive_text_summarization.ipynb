{
  "cells": [
    {
      "cell_type": "code",
      "execution_count": null,
      "metadata": {
        "id": "vbgXNLjeizX9"
      },
      "outputs": [],
      "source": [
        "%%capture\n",
        "!pip install --upgrade tensorflow_datasets\n",
        "!pip install --upgrade tensorflow\n",
        "!pip install --upgrade nltk\n",
        "!pip install --upgrade transformers\n",
        "!pip install --upgrade rouge\n",
        "!pip install --upgrade sentencepiece"
      ]
    },
    {
      "cell_type": "code",
      "execution_count": null,
      "metadata": {
        "colab": {
          "base_uri": "https://localhost:8080/"
        },
        "id": "FO3wVkjJizX_",
        "outputId": "200222dc-9bfa-4177-ac95-b0af0cc7a7bc"
      },
      "outputs": [
        {
          "output_type": "stream",
          "name": "stderr",
          "text": [
            "[nltk_data] Downloading package punkt to /root/nltk_data...\n",
            "[nltk_data]   Package punkt is already up-to-date!\n",
            "[nltk_data] Downloading package wordnet to /root/nltk_data...\n",
            "[nltk_data]   Package wordnet is already up-to-date!\n"
          ]
        },
        {
          "output_type": "execute_result",
          "data": {
            "text/plain": [
              "True"
            ]
          },
          "metadata": {},
          "execution_count": 2
        }
      ],
      "source": [
        "import nltk\n",
        "nltk.download('punkt')\n",
        "nltk.download('wordnet')"
      ]
    },
    {
      "cell_type": "code",
      "execution_count": null,
      "metadata": {
        "id": "KD_RIW_nizYA"
      },
      "outputs": [],
      "source": [
        "%%capture\n",
        "import tensorflow_datasets as tfds"
      ]
    },
    {
      "cell_type": "code",
      "execution_count": null,
      "metadata": {
        "scrolled": true,
        "id": "KnKFBUtyizYA"
      },
      "outputs": [],
      "source": [
        "dataset = tfds.load('cnn_dailymail', split=\"test[:5%]\") #Loading dataset via tensorflow_datasets"
      ]
    },
    {
      "cell_type": "code",
      "execution_count": null,
      "metadata": {
        "id": "UTDF7kTNizYB"
      },
      "outputs": [],
      "source": [
        "#### Extract the documents and summaries\n",
        "# Step 2: Preprocess\n",
        "documents = [example['article'].numpy().decode() for example in dataset]\n",
        "summaries = [example['highlights'].numpy().decode() for example in dataset]"
      ]
    },
    {
      "cell_type": "code",
      "execution_count": null,
      "metadata": {
        "colab": {
          "base_uri": "https://localhost:8080/"
        },
        "id": "Id3PsABXizYC",
        "outputId": "4ba33551-d3d5-4194-9cdf-017c56bfe2fe"
      },
      "outputs": [
        {
          "output_type": "stream",
          "name": "stdout",
          "text": [
            "Document: \n",
            "--------\n",
            "In an unprecedented move, Russia has cancelled the release of a Hollywood thriller set in the Stalin era - claiming it distorts history and would air as the country celebrates its victory over Nazi Germany. The film, 'Child 44', starring Tom Hardy, Vincent Cassel and Gary Oldman, tells the story of a serial killer who targets children in the Stalin era. It is based on a novel by British writer Tom Rob Smith and was due to premiere in Russia today. Scroll down for video. Russian authorities have cancelled the release of Child 44, starring Gary Oldman (left) and Tom Hardy. The Hollywood blockbuster tells the story of a serial killer who targets children in Stalin era Russia. Russia's culture ministry said the film distorted history as it celebrated its victory over Nazi Germany. Russia's culture ministry said the film's distributors in Russia, Central Partnership, had agreed to withdraw a request for a distribution licence after ministry officials viewed the film. 'Films such as 'Child 44' should not go out in our country on mass release, earning money from our cinema audiences, not in the year of the 70th anniversary of victory, not ever,' Culture Minister Vladimir Medinsky wrote on the ministry's website. The move to effectively ban a major mainstream Hollywood film just a day before it was due to premiere is unprecedented. In recent years, Russia has cracked down harshly on negative depictions of the Soviet Union during the Stalin era, while criticism of those who fought in the Second World War is taboo. The culture ministry accused the film of 'distortion of historical facts and the idiosyncratic treatment of events before, during and after' the war. The film is set in 1952, a year before Stalin's death, and features a maverick investigator seeking a serial killer, while hindered by official attitudes that such murders are not possible in the Soviet Union. Culture Minister Vladimir Medinsky (pictured) condemned the film for its depiction of the horrors of the Stalin regime. 'You realise murder is strictly a capitalist disease,' French star Cassel hisses in a thick Russian accent in the film's English-language trailer. Culture minister Medinsky slammed the film for its depiction of the horrors of the Stalin regime and said it misrepresented a country that was 'one of the world leaders'. The film shows Soviet Army officers as 'blood-thirsty ghouls' randomly shooting people, 'especially gays,' Medinsky complained. Soviet women have to offer them sexual favours or 'be sent, as is customary, to the Gulag,' he added with heavy irony. The decision to pull the film came after the culture ministry on Tuesday gave it a distribution licence with an 18+ certificate. The head of Central Partnership, Pavel Stepanov, issued a statement saying he was 'satisfied' with the film's ban. 'We consider it's important in the future to increase state control over distribution of films that have a socially significant context,' he said. On Tuesday, Kultura state-funded arts newspaper, whose editor is a member of President Vladimir Putin's arts council, published a review of the film titled '44 shades of vileness.' 'Daniel Espinosa's film is made up of lies and spitting at Russia and Russians,' it wrote. Earlier this year the outspoken culture minister voiced his dislike of Russian art-house film 'Leviathan,' despite its landmark victory at the Golden Globes and Oscar nomination, complaining it was full of 'existentialist hopelessness.' Last month he sacked the head of a theatre in Siberia after its radical staging of a Wagner opera including images of Jesus Christ angered some Orthodox believers.\n",
            "Summary: \n",
            "--------\n",
            "Russian authorities have cancelled the release of Hollywood's Child 44.\n",
            "The blockbuster film stars Tom Hardy, Gary Oldman and Vincent Cassel.\n",
            "It depicts a private investigator attempting to hunt down a serial child killer.\n",
            "Russia's culture minister accused the film of 'distortion of historical facts'\n",
            "\n",
            "Document: \n",
            "--------\n",
            "If it feels as though summer has come early, that’s because we’re already enjoying August temperatures. This week’s remarkable spell of sunshine in southern England is to continue – and warm up. The temperature in the South is forecast to reach 24C (75F) today and 25C (77F) tomorrow, surpassing the highest seen so far this year, the 21.9C (71.4F) recorded in London on Friday. The delightful weather, caused by warm air blowing up from the Azores, is creating conditions we might usually experience in July or August. Scroll down for video. Beach life: People enjoy the weather at Barry Island  in south Wales yesterday, as most of England and Wales enjoys  warm spring conditions. Sunseekers: People sit on the beach at Barry Island in Wales, as forecasters predicted temperatures could reach 24C by tomorrow. Anyone for cricket? The action in front of Worcester Cathedral during day two of a match between Worcestershire and Yorkshire yesterday. Unusual sight: A man appears to walk across a rainbow at the beach at Barry Island, near Cardiff in south Wales yesterday. Stunning: A fog bank rolling onto Portsmouth from the Solent, after cool air moved quickly over the surface of the warm water. Britons are so confident of a scorching summer that bookmakers are receiving tens of thousands of pounds in bets on this year breaking records. The record for the hottest day ever in Britain was set more than a decade ago in August 2003 when temperatures hit 38.1C (101F) in Gravesend, Kent. Coral’s price on this summer being the hottest on record has fallen from 10/1 to 2/1, while Ladbrokes has 5/6 on this spring being the warmest ever. There has been a surge in bets after the recent warm weather, and William Hill has 8/1 odds that the temperature will exceed 100F (37.8C) this year. Ladbrokes is also offering 8/1 that the April record of 29.4C (84.9F) set in 1949 in Camden, north London, will be broken by the end of the month. The forecast for today is actually warmer than the 18C (64F) average daytime temperature in August, and way ahead of the 11C (52F) normally expected in April. This weekend will be slightly cooler than the dizzy heights expected tomorrow, but the clear skies and above-average temperatures are forecast to last well into next week. Met Office spokesman Laura Young said last night: ‘We are expecting some really good temperatures over the next few days. Unless you are in north-west Scotland, which will see quite a lot of rain, it will be dry and sunny. ‘On Tuesday we could see 23C to 25C (73F to 77F) in prolonged sunshine. That is double the daytime average for this time of year. ‘Wednesday will be 22C to 25C (72F to 77F) or higher in places. Thursday will probably be slightly cooler but still in the high teens. Wednesday warmth: Most of England and Wales will enjoy sunshine over the next few days with temperatures hitting 24C later this week. Peak District awakening: The morning mist looking out across the Derbyshire village of Foolow, near Grindleford, which woke to a frost. Going for a walk: A deer in the morning mist near Foolow in Derbyshire yesterday, as Britons prepared for the warmest weather of the year so far. ‘There is a cold air mass arriving on Thursday night but it is expected to stay dry well into next week. After that we can be less certain.’ The spell of warm weather, which has now lasted more than a week, has seen people flocking to the nation’s beaches. Among them were swimmers in the South-West who were stunned to see giant jellyfish in the waters. Barrel jellyfish, which have tentacles up to six feet long, were spotted near Hope Cove in south Devon. The species are usually found in the sunnier climes of the Mediterranean, but the rising temperatures and warmer seas have meant that more plankton becomes available and the jellyfish have headed closer to shore. The species is harmless to humans, but with the weather warming up then other jellyfish could be heading our way. Beachgoers are advised not to touch jellyfish in case they have chanced upon a species with a powerful sting. Devon vet Rupert Kirkwood, whose son Henry had an encounter with one of the jellyfish while kayaking, said: ‘No doubt they are encouraged to put in an appearance by the sunny weather. I have never seen them so early in the year. Could be the start of a bumper jellyfish year.’ After the bad smog seen late last week in the South-East, the air will be relatively clear for most parts over the next few days. Poor visibility: A fog-shrouded Brighton seafront yesterday, in stark contrast to yesterday's sunshine, as more warm temperatures are on the way. Apocalypse wow! It could be a poster for the 1979 Vietnam War film, but this stunning sunrise, behind dredger Britannia Beaver, painted the skies in Gravesend, Kent. Spectacular start: The sun rises over fishing boats off the North East coast near Cullercoats bay in North Tyneside yesterday morning. Over the water: Sunrise near Cullercoats bay in North Tyneside, as Britain basked in the hottest temperatures of the year so far. But pollution levels will increase again on Thursday and Friday, particularly in the South-West, where Cornwall and Devon are expected to see fumes rise to dangerous levels. The Met Office three-month contingency forecast for public officials predicts that there is an average chance of a warmer than usual summer. But thankfully the chances of it being much colder than usual is just 10 per cent. A spokesman said: ‘Unfortunately, the weather we get in April doesn’t necessarily tell us anything about the kind of summer we can expect. ‘We’re still in the midst of spring, so it’s far too early to say what the months of June, July and August may hold.’ Ladbrokes spokesman David Williams said yesterday: ‘The money flooding in on weather bets is unusual and has taken us a bit by surprise. ‘This is the first time we have seen quite significant sums wagered on this specific bet - so obviously people out there sense something hot is coming.’ And Nicola McGeady from Coral added: 'The British public are obsessed with the weather and that is reflected in the interest in weather betting.' Hot day: These graphics show the cloud coverage and temperatures tomorrow, with the South East expected to have the best weather. Arriving: The predicted hot weather this week is the result of a plume of warm air heading towards the UK from the south west. Green for cold, red for hot: These graphics from Netweather show the forecast temperatures for tomorrow (left) and Wednesday (right) A third of weather bets to Ladbrokes have come from punters in the South East - the area that has enjoyed the best conditions over the past week. And the bookmaker said its biggest bet of the year so far has been £1,000 on 2015 to be the hottest year on record at 8/1 - placed in January. Meanwhile, Coral - MailOnline's official betting partner - said it has even had a request from someone asking to bet on rain every day this summer. The Met Office has confirmed that hotter-than-average temperatures are more than twice as likely than below-average conditions until June. It said in a long-range forecast that ‘much of the tropical Pacific Ocean remains warmer than average and close to El Nino thresholds’. El Nino - the warming of Pacific sea surface temperatures - can trigger drought in south-east Asia and Australia as well as floods in South America. The Met Office says most climate models ‘now suggest that sea surface temperatures will exceed El Nino thresholds in late spring or early summer’. With Britain set to bask in its hottest temperatures of the year so far this week, thousands of parents and children are expected to head to the beach. But firefighters have warned those thinking about stripping off and diving into the water - with more than 650 water-related deaths in the UK in 2013. The act, known as ‘tombstoning’, can lead to people suffering ‘cold water shock’ when the air temperature is much higher than that of the water. London Fire Brigade assistant commissioner Peter Cowup said: ‘Rivers, lakes and canals may look inviting, especially on a hot day and after a drink. ‘But it’s important to realise that open water has hidden dangers that can hurt you and at worse, kill you.’ On the first-ever Drowning Prevention and Water Safety Week, firefighters added that the 16-30 age group was worst-hit by water deaths in 2013. Giant jellyfish are being spotted off Britain earlier than normal thanks to the warm weather, it was claimed yesterday. Kayaker Rupert Kirkwood, a seasoned sea watcher, was stunned to see the giant creatures off Hope Cove in Devon. The barrel jellyfish, which have tentacles up to 6ft long, were pictured floating next to Mr Kirkwood’s kayak in the sun-drenched blue waters. Up close: Rupert Kirkwood's son Henry had this encounter with a barrel jellyfish near Hope Cove off the coast of south Devon. The species are usually found in more tropical areas such as the Mediterranean Sea. But the rising temperatures and warmer seas have meant more plankton is available - and the jellyfish have headed closer to shore. The dustbin lid-shaped species is harmless to humans but with the weather warming up experts say more could be heading our way. Beachgoers are advised not to touch jellyfish in case they have chanced upon a species with a powerful sting. Floating: The dustbin lid-shaped species is harmless to humans but with the weather warming up experts say more could be heading our way. The Red Cross says that anyone who does get stung should not try to use urine to provide relief as the healing properties of this are an urban myth. Vinegar is said to be far more effective. Vet Mr Kirkwood said: ‘No doubt they [are] encouraged to put in an appearance by the sunny weather. ‘I have never seen them so early in the year. Could be the start of a bumper jellyfish year.’\n",
            "Summary: \n",
            "--------\n",
            "Tomorrow will be week's warmest day and Met Office says above-average temperatures are forecast until June.\n",
            "Weather, caused by warm air from the Azores, creating conditions we might usually experience in July or August.\n",
            "Bookmakers are receiving tens of thousands of pounds in bets on weather records being broken this summer.\n",
            "Public alerted to dangers in water as jellyfish arrive early off coast and firefighters issue 'tombstoning' warning.\n",
            "\n",
            "Document: \n",
            "--------\n",
            "An ultra luxury penthouse standing 319 metres off the ground in the tallest apartment block in the southern hemisphere has been bought off the plan by a Chinese businessman for a record price of $25 million. The Melbourne apartment, which is spread across the entire 100th floor of super skyscraper Australia 108 and boast 360 degrees over the city, is the most expensive single apartment sold in the country, Domain reports. The businessman who splashed out on the 750 square metre apartment on Southbank promenade plans to live in the luxury pad when it is completed. It is tipped to have at least four bedrooms with huge walk in robes and ensuites. Scroll down for video. A Melbourne penthouse apartment in the Australia 108 complex that boasts 360 degree views of the city has been sold for $25 million to a Chinese businessman. The Melbourne apartment, which is spread across the entire 100th floor of skyscraper Australia 108, is the most expensive single apartment sold in the country. The new owner, whose identity was not disclosed, will have 360 degree views over Melbourne's CBD, their own private grand foyer and glass elevator. The penthouse apartment was sold two months after being advertised as double the size of the average Australian home and boasting views that could never be built out. Construction has started on the building, which was designed by Fender Katsalidis Architects, and is due to be completed by 2019. Australia 108 will contain 1,105 luxury apartments, as well as retail tenancies, a multi-level carpark and communal facilities for residents including pools, gym, sauna, steam room and private theatre. More than 1,000 apartments have sold off the plan since Australia 108 went on the market in February. The 750 square metre apartment on Southbank promenade will have 360 degree views over Melbourne's CBD, a private grand foyer and glass elevator. The apartment block has three infinity pools set against floor-to-ceiling glass to give swimmers a view of either the glittering city skyline or shimmering bay. Australia 108 will contain 1,105 luxury apartments, as well as retail tenancies, a multi-level carpark and communal facilities for residents including a pool, gym, sauna, steam room and private theatre. Australia 108 will contain 1,105 luxury apartments, as well as retail tenancies, a multi-level carpark and communal facilities for residents including pools, gym, sauna, steam room and private theatre. CBRE managing director of residential projects Andrew Leoncelli told Domain there was high interest in the penthouse apartment and three local buyers had expressed interest. 'The extraordinary sale of the Australia 108 penthouse sets a new benchmark for pricing, breaking all records ever set in Australia. It is by far the most opulent, landmark and exciting trophy apartment ever brought to market,' he said. There are two types of apartments for sale at the super skyscraper complex, including 161 of the Cloud Residences. These sit above the gold 'starburst' at levels 70 and 71, which house luxury services accessible to residents. Beneath the 'starburst' are 944 Skyrise Residences. The apartment block has three infinity pools set against floor-to-ceiling glass to give swimmers a view of either the glittering city skyline or shimmering bay. 'There will be not a more spectacular place to take a dip than in Australia 108,' CBRE residential projects managing director Andrew Leoncelli said. 'Not for the faint of heart, these pools offer breathtaking views 210 metres above ground.' At 319 metres high, Australia 108 will be the highest residential tower in the southern hemisphere - it beats the neighbouring Eureka tower by 22 metres. While the Q1 Gold Coast building beats Australia 108 because of a spire that reaches 323 metres,  the Melbourne building will have the tallest roof line. Australia 108 will have three pools and a gym, sauna and steam room located in this area of the building known as the 'starburst' Construction has started on the building, which was designed by Fender Katsalidis Architects, and is due to be completed by 2019. At 319 metres high, Australia 108 will be the highest residential tower in the southern hemisphere - it beats the neighbouring Eureka tower by 22 metres. CBRE managing director of residential projects Andrew Leoncelli told Domain there was high interest in the penthouse apartment and three local buyers had expressed interest. While the Q1 Gold Coast building beats Australia 108 because of a spire that reaches 323 metres, the Melbourne building will have the tallest roof line.\n",
            "Summary: \n",
            "--------\n",
            "Melbourne penthouse apartment was sold to Chinese businessman for $25 million.\n",
            "Penthouse is in Australia 108 development at Melbourne's Southbank.\n",
            "The 750 square metre apartment is spread across entire 100th floor of super skyscraper.\n",
            "The building will be 319 metres tall - the highest in the southern hemisphere.\n",
            "Construction has started on the building and is due to be complete in 2019.\n",
            "\n"
          ]
        }
      ],
      "source": [
        "import random\n",
        "\n",
        "for i in range(3):\n",
        "    index = random.randint(0, len(documents))\n",
        "    print(f\"Document: \\n--------\\n{documents[index]}\")\n",
        "    print(f\"Summary: \\n--------\\n{summaries[index]}\\n\")"
      ]
    },
    {
      "cell_type": "markdown",
      "metadata": {
        "id": "2gf_zZaPizYC"
      },
      "source": [
        "# Extractive Summarization with TF-IDF"
      ]
    },
    {
      "cell_type": "code",
      "execution_count": null,
      "metadata": {
        "id": "cEl0-R55izYD"
      },
      "outputs": [],
      "source": [
        "import nltk\n",
        "from sklearn.feature_extraction.text import TfidfVectorizer\n",
        "import tensorflow_datasets as tfds"
      ]
    },
    {
      "cell_type": "markdown",
      "metadata": {
        "id": "0HpCnxVtizYD"
      },
      "source": [
        "#### TF-IDF for extractive summarization at sentence level"
      ]
    },
    {
      "cell_type": "code",
      "execution_count": null,
      "metadata": {
        "id": "COHeOYKQizYE"
      },
      "outputs": [],
      "source": [
        "def tfidf_extractive_summarization(document, top_n=3):\n",
        "    # Tokenize the document into sentences\n",
        "    sentences = nltk.sent_tokenize(document)\n",
        "\n",
        "    # Create a TF-IDF vectorizer\n",
        "    vectorizer = TfidfVectorizer()\n",
        "\n",
        "    # Fit and transform the sentences\n",
        "    tfidf_matrix = vectorizer.fit_transform(sentences)\n",
        "\n",
        "    # Calculate the sentence scores\n",
        "    sentence_scores = tfidf_matrix.sum(axis=1).tolist()\n",
        "\n",
        "    # Get the indices of the top N sentences with the highest scores\n",
        "    top_sentence_indices = sorted(range(len(sentence_scores)), key=lambda i: sentence_scores[i], reverse=True)[:top_n]\n",
        "\n",
        "    # Sort the top sentences based on their original order in the document\n",
        "    top_sentences = [sentences[i] for i in sorted(top_sentence_indices)]\n",
        "\n",
        "    # Join the top sentences to form the summary\n",
        "    summary = ' '.join(top_sentences)\n",
        "\n",
        "    return summary"
      ]
    },
    {
      "cell_type": "code",
      "execution_count": null,
      "metadata": {
        "id": "_4w8YyMyizYE"
      },
      "outputs": [],
      "source": [
        "example_index = random.randint(0, len(documents))  # selectin a doc to summarize\n",
        "document = documents[example_index]\n",
        "summary = summaries[example_index]"
      ]
    },
    {
      "cell_type": "code",
      "execution_count": null,
      "metadata": {
        "id": "Vj47a7S1izYF"
      },
      "outputs": [],
      "source": [
        "tfidf_summary = tfidf_extractive_summarization(document)"
      ]
    },
    {
      "cell_type": "code",
      "execution_count": null,
      "metadata": {
        "colab": {
          "base_uri": "https://localhost:8080/"
        },
        "id": "M98F0XpBizYG",
        "outputId": "d5b1c089-f11b-40df-a6e3-24e0de909fc6"
      },
      "outputs": [
        {
          "output_type": "stream",
          "name": "stdout",
          "text": [
            "Original Document:\n",
            "Bending and rising in spectacular fashion, these stunning pictures capture the paddy fields of south east Asia and the arduous life of the farmers who cultivate them. In a photo album that spans over China, Thailand, Vietnam, Laos and Cambodia, extraordinary images portray the crop's full cycle from the primitive sowing of seeds to the distribution of millions of tonnes for consumption. The pictures were taken by professional photographer Scott Gable, 39, who spent four months travelling across the region documenting the labour and threadbare equipment used to harvest the carbohydrate-rich food. Scroll down for video. Majestic: A farmer wades through the mud with a stick as late morning rain falls on top of Dragonsbone terraces in Longsheng County, China. Rice is a staple food for more than one-half the world's population, but for many consumers, its origin remains somewhat of a mystery. The crop accounts for one fifth of all calories consumed by humans and 87 per cent of it is produced in Asia. It is also the thirstiest crop there is - according to the UN, farmers need at least 2,000 litres of water to make one kilogram of rice. Mr Gable said he was determined to capture every stage of production with his Rice Project - from the planting to the harvesting all the way down to the shipping of the food. After acquiring some contacts from experts at Cornell University in New York and conducting his own research, he left for China last May and spent the next four months traveling. He said: 'The images were taken over a four month period from April to July last year across Asia. I visited China, Thailand, Vietnam, Laos and Cambodia as part of my Rice Project. Video courtesy of www.scottgable.com. Breathtaking: A paddy field worker toils on the beautiful landscape of Dragonsbone terraces in Longsheng County, China. Farmers' procession: A rice planting festival parade takes place near the village of Pingan in Guangxi Province, China. 'The project is one part of a larger three part project on global food staples - rice, corn and wheat. I am currently in the process of shooting the corn segment. 'The industrialisation of our food and mono-culture food staples have interested me for some time so that's probably what inspired me to do this project. 'I shot the whole project using a Canon SLR and GoPros. The actual shooting took four months and then post production took another four more months. 'The reaction to my work has been incredibly positive - I was able to secure a solo gallery show and create quite a bit of interest online which has been great.' Family crop: A Hani woman in traditional clothing sits on top of her family's rice store in Yunnan Province, China. Arduous labour: Employees of Taiwan's state-run rice experimental station are pictured beating rice husks by hand as the sun shines on them. Mr Gable spent months learning Mandarin Chinese in preparation for his trip, but the language barrier was still his greatest challenge. In an interview on photographic blog  Slate, he added: 'I had enough Chinese that I could get around in the big cities, but once I got into the highlands or mountains they don't speak Mandarin. 'There are so many different languages in China. That was very difficult. There's no iPhone translation for these dialects.' Mr Gable is already working on a new related project documenting corn production and after that, he plans to do a similar investigation of wheat. The three projects together form part of his mission to inspire people to think about food and its origins in an enlightened way. A world away from modern life: A Hani farmer is pictured using hand tools to ready a terrace for planting rice in China's Yunnan Province. Muddy work: A solitary famer wearing a traditoinal Asian conical hat labours in a paddy field in lowland  southern China. Tough life: An elderly Chinese farmer is seen carrying stacks of rice shoots to be planted in a field. Manufacturing process: A rice harvester dumps raw rice into a catch vehicle in Taitung, Taiwan, where more modern equipment is utilised. Primitive: A farmer ploughs a field using a bull in southern China - using a technique introduced thousands of years ago. Way of life: A Guangxi province highlands farmer clears a paddy field as the sun sets in southern China. Prepared for distribution: A worker at a Taiwanese rice-production facility near Fuli, Taiwan stands in front of giant sacks of the crop. The photographer was determined to capture every stage of rice production from the planting and harvesting all the way down to the shipping. Rice Project: Scott Gable said he was determined to capture every stage of production from the planting and harvesting to the shipping.\n",
            "\n",
            "Reference Summary:\n",
            "The spectacular photos were taken at paddy fields in China, Thailand, Vietnam, Laos and Cambodia.\n",
            "Photographer Scott Gable spent four months travelling region to document the process of harvesting the crop.\n",
            "Rice accounts for one fifth of all calories consumed by humans but crop is often still cultivated in primitive way.\n",
            "\n",
            "TF-IDF Summary:\n",
            "In a photo album that spans over China, Thailand, Vietnam, Laos and Cambodia, extraordinary images portray the crop's full cycle from the primitive sowing of seeds to the distribution of millions of tonnes for consumption. After acquiring some contacts from experts at Cornell University in New York and conducting his own research, he left for China last May and spent the next four months traveling. In an interview on photographic blog  Slate, he added: 'I had enough Chinese that I could get around in the big cities, but once I got into the highlands or mountains they don't speak Mandarin.\n",
            "\n"
          ]
        }
      ],
      "source": [
        "print(\"Original Document:\")\n",
        "print(document)\n",
        "print()\n",
        "print(\"Reference Summary:\")\n",
        "print(summary)\n",
        "print()\n",
        "print(\"TF-IDF Summary:\")\n",
        "print(tfidf_summary)\n",
        "print()"
      ]
    },
    {
      "cell_type": "markdown",
      "metadata": {
        "id": "23RmVfReizYG"
      },
      "source": [
        "# Metrics Evaluation for Summarization"
      ]
    },
    {
      "cell_type": "code",
      "execution_count": null,
      "metadata": {
        "id": "2Ws2xUkPizYH"
      },
      "outputs": [],
      "source": [
        "from nltk.translate.bleu_score import SmoothingFunction, sentence_bleu\n",
        "from nltk.translate.meteor_score import meteor_score\n",
        "from rouge import Rouge"
      ]
    },
    {
      "cell_type": "markdown",
      "metadata": {
        "id": "MJw5cDPrizYH"
      },
      "source": [
        "#### Loading the reference summaries and the generated summaries for TFIDF and BERTSum"
      ]
    },
    {
      "cell_type": "code",
      "execution_count": null,
      "metadata": {
        "id": "yCJ9AeoFizYH"
      },
      "outputs": [],
      "source": [
        "random_indices = [random.randint(0, len(documents)) for i in range(3)]\n",
        "\n",
        "reference_summaries = [\n",
        "    summaries[index] for index in random_indices\n",
        "]\n",
        "\n",
        "original_documents = [\n",
        "    documents[index] for index in random_indices\n",
        "]\n",
        "\n",
        "tf_idf_generated_summaries = [\n",
        "    tfidf_extractive_summarization(document) for document in original_documents\n",
        "]\n"
      ]
    },
    {
      "cell_type": "markdown",
      "metadata": {
        "id": "bHjsgDDqizYH"
      },
      "source": [
        "#### ROUGE Score"
      ]
    },
    {
      "cell_type": "code",
      "execution_count": null,
      "metadata": {
        "id": "76EuaBcbizYI"
      },
      "outputs": [],
      "source": [
        "#Calculate ROUGE-N, ROUGE-L, and ROUGE-S scores\n",
        "def calculate_rouge_scores(reference_summaries, generated_summaries):\n",
        "    rouge = Rouge()\n",
        "    rouge_n_scores = []\n",
        "    rouge_l_scores = []\n",
        "    rouge_s_scores = []\n",
        "\n",
        "    for reference, generated in zip(reference_summaries, generated_summaries):\n",
        "        scores = rouge.get_scores(generated, reference)[0]\n",
        "\n",
        "        # Extract ROUGE-N scores (unigram, bigram)\n",
        "        rouge_n = [scores[\"rouge-1\"][\"f\"], scores[\"rouge-2\"][\"f\"]]\n",
        "        rouge_n_scores.append(rouge_n)\n",
        "\n",
        "        # Extract ROUGE-L scores\n",
        "        rouge_l_scores.append(scores[\"rouge-l\"][\"f\"])\n",
        "\n",
        "\n",
        "    return rouge_n_scores, rouge_l_scores\n"
      ]
    },
    {
      "cell_type": "code",
      "execution_count": null,
      "metadata": {
        "id": "co07vF3jizYI"
      },
      "outputs": [],
      "source": [
        "rouge_n_scores, rouge_l_scores = calculate_rouge_scores(reference_summaries, tf_idf_generated_summaries)"
      ]
    },
    {
      "cell_type": "code",
      "execution_count": null,
      "metadata": {
        "colab": {
          "base_uri": "https://localhost:8080/"
        },
        "id": "YcitEFPvizYJ",
        "outputId": "8e7f3a10-4c23-41d2-da3b-eeeb6f32c6f4"
      },
      "outputs": [
        {
          "output_type": "stream",
          "name": "stdout",
          "text": [
            "ROUGE-N Scores:\n",
            "ROUGE-Summary-1: [0.3232323191755943, 0.10810810433568717]\n",
            "ROUGE-Summary-2: [0.3010752643727599, 0.15686274079200319]\n",
            "ROUGE-Summary-3: [0.5072463718378492, 0.22222221725112012]\n",
            "\n",
            "ROUGE-L Scores:\n",
            "ROUGE-L-Summary-1: 0.30303029897357414\n",
            "ROUGE-L-Summary-2: 0.21505375899641585\n",
            "ROUGE-L-Summary-3: 0.49275361821466085\n",
            "\n"
          ]
        }
      ],
      "source": [
        "print(\"ROUGE-N Scores:\")\n",
        "for n, scores in enumerate(rouge_n_scores, start=1):\n",
        "    print(f\"ROUGE-Summary-{n}: {scores}\")\n",
        "print()\n",
        "\n",
        "print(\"ROUGE-L Scores:\")\n",
        "for i, score in enumerate(rouge_l_scores, start=1):\n",
        "    print(f\"ROUGE-L-Summary-{i}: {score}\")\n",
        "print()"
      ]
    },
    {
      "cell_type": "markdown",
      "metadata": {
        "id": "uBeYdlG4izYK"
      },
      "source": [
        "#### BLEU score"
      ]
    },
    {
      "cell_type": "code",
      "execution_count": null,
      "metadata": {
        "id": "zOJ9F2rMizYK"
      },
      "outputs": [],
      "source": [
        "def calculate_bleu_score(reference_summaries, generated_summaries):\n",
        "    bleu_scores = []\n",
        "\n",
        "    for reference, generated in zip(reference_summaries, generated_summaries):\n",
        "        reference_tokens = reference.split()\n",
        "        generated_tokens = generated.split()\n",
        "        bleu = sentence_bleu([reference_tokens], generated_tokens, smoothing_function=SmoothingFunction().method1)\n",
        "        bleu_scores.append(bleu)\n",
        "\n",
        "    return bleu_scores"
      ]
    },
    {
      "cell_type": "code",
      "execution_count": null,
      "metadata": {
        "id": "gVCrpbBBizYL"
      },
      "outputs": [],
      "source": [
        "bleu_scores = calculate_bleu_score(reference_summaries, tf_idf_generated_summaries)"
      ]
    },
    {
      "cell_type": "code",
      "execution_count": null,
      "metadata": {
        "colab": {
          "base_uri": "https://localhost:8080/"
        },
        "id": "rSIRatRSizYL",
        "outputId": "57296f77-9f12-4ddd-8795-d85d4b3ec87d"
      },
      "outputs": [
        {
          "output_type": "stream",
          "name": "stdout",
          "text": [
            "BLEU Scores:\n",
            "BLEU-Sentence-1: 0.01729507217206357\n",
            "BLEU-Sentence-2: 0.0934748138367647\n",
            "BLEU-Sentence-3: 0.1076429664804074\n"
          ]
        }
      ],
      "source": [
        "print(\"BLEU Scores:\")\n",
        "for i, score in enumerate(bleu_scores, start=1):\n",
        "    print(f\"BLEU-Sentence-{i}: {score}\")"
      ]
    },
    {
      "cell_type": "markdown",
      "metadata": {
        "id": "LLF2QNgXizYM"
      },
      "source": [
        "#### METEOR score"
      ]
    },
    {
      "cell_type": "code",
      "execution_count": null,
      "metadata": {
        "id": "GMxHc0UYizYM"
      },
      "outputs": [],
      "source": [
        "def calculate_meteor_score(reference_summaries, generated_summaries):\n",
        "    meteor_scores = []\n",
        "\n",
        "    for reference, generated in zip(reference_summaries, generated_summaries):\n",
        "        meteor = meteor_score([reference.split()], generated.split())\n",
        "        meteor_scores.append(meteor)\n",
        "\n",
        "    return meteor_scores"
      ]
    },
    {
      "cell_type": "code",
      "execution_count": null,
      "metadata": {
        "id": "QajflwMaizYM"
      },
      "outputs": [],
      "source": [
        "meteor_scores = calculate_meteor_score(reference_summaries, tf_idf_generated_summaries)"
      ]
    },
    {
      "cell_type": "code",
      "execution_count": null,
      "metadata": {
        "colab": {
          "base_uri": "https://localhost:8080/"
        },
        "id": "BQTZsf0NizYN",
        "outputId": "b51cad19-442d-40aa-9962-a68a0558f196"
      },
      "outputs": [
        {
          "output_type": "stream",
          "name": "stdout",
          "text": [
            "METEOR Scores:\n",
            "METEOR-Sentence-1: 0.34709901290961315\n",
            "METEOR-Sentence-2: 0.3661019175203572\n",
            "METEOR-Sentence-3: 0.3820668501024424\n"
          ]
        }
      ],
      "source": [
        "print(\"METEOR Scores:\")\n",
        "for i, score in enumerate(meteor_scores, start=1):\n",
        "    print(f\"METEOR-Sentence-{i}: {score}\")"
      ]
    },
    {
      "cell_type": "markdown",
      "metadata": {
        "id": "rn3hT-WuizYN"
      },
      "source": [
        "# Abstractive Summmarization"
      ]
    },
    {
      "cell_type": "code",
      "execution_count": null,
      "metadata": {
        "id": "nDTlGKUwizYO"
      },
      "outputs": [],
      "source": [
        "from transformers import PreTrainedTokenizerFast, BartForConditionalGeneration, BartTokenizer, PegasusTokenizer\n",
        "from transformers import AutoTokenizer, PegasusForConditionalGeneration, pipeline, ProphetNetForConditionalGeneration, ProphetNetTokenizer\n",
        "import tensorflow_datasets as tfds"
      ]
    },
    {
      "cell_type": "markdown",
      "metadata": {
        "id": "jpH-pWMtizYP"
      },
      "source": [
        "#### BART for abstractive summarization"
      ]
    },
    {
      "cell_type": "code",
      "execution_count": null,
      "metadata": {
        "id": "5MuFAy2VizYP"
      },
      "outputs": [],
      "source": [
        "def bart_abstractive_summarization(document):\n",
        "    #  Load Model and Tokenize\n",
        "    tokenizer = PreTrainedTokenizerFast.from_pretrained(\"facebook/bart-large-cnn\")\n",
        "    model = BartForConditionalGeneration.from_pretrained(\"facebook/bart-large-cnn\")\n",
        "\n",
        "    inputs = tokenizer(document, max_length=1024, return_tensors=\"pt\")\n",
        "\n",
        "    summary_ids = model.generate(inputs[\"input_ids\"])\n",
        "    # Decoding Text and return\n",
        "    return tokenizer.batch_decode(summary_ids, skip_special_tokens=True, clean_up_tokenization_spaces=False)[0]"
      ]
    },
    {
      "cell_type": "code",
      "execution_count": null,
      "metadata": {
        "id": "Yw0u5uLFizYP"
      },
      "outputs": [],
      "source": [
        "document = documents[example_index]"
      ]
    },
    {
      "cell_type": "markdown",
      "metadata": {
        "id": "E7QYxuqQizYQ"
      },
      "source": [
        "#### Pegasus for abstractive summarization"
      ]
    },
    {
      "cell_type": "code",
      "execution_count": null,
      "metadata": {
        "id": "MDazWLL5izYQ"
      },
      "outputs": [],
      "source": [
        "def pegasus_abstractive_summarization(document):\n",
        "\n",
        "    model = PegasusForConditionalGeneration.from_pretrained(\"google/pegasus-cnn_dailymail\")\n",
        "    tokenizer = AutoTokenizer.from_pretrained(\"google/pegasus-cnn_dailymail\")\n",
        "\n",
        "\n",
        "    inputs = tokenizer(document, max_length=1024, return_tensors=\"pt\")\n",
        "\n",
        "    # Generate Summary\n",
        "    summary_ids = model.generate(inputs[\"input_ids\"])\n",
        "    return tokenizer.batch_decode(summary_ids, skip_special_tokens=True, clean_up_tokenization_spaces=False)[0]"
      ]
    },
    {
      "cell_type": "markdown",
      "metadata": {
        "id": "vJfdoO-jizYR"
      },
      "source": [
        "#### Generating the summaries using BART and Pegasus"
      ]
    },
    {
      "cell_type": "code",
      "execution_count": null,
      "metadata": {
        "colab": {
          "base_uri": "https://localhost:8080/"
        },
        "id": "GCb5wuJ9izYR",
        "outputId": "f1181ae9-245a-4a9d-bb12-4cb10300cdee"
      },
      "outputs": [
        {
          "output_type": "stream",
          "name": "stderr",
          "text": [
            "Truncation was not explicitly activated but `max_length` is provided a specific value, please use `truncation=True` to explicitly truncate examples to max length. Defaulting to 'longest_first' truncation strategy. If you encode pairs of sequences (GLUE-style) with the tokenizer you can select this strategy more precisely by providing a specific strategy to `truncation`.\n",
            "/usr/local/lib/python3.10/dist-packages/transformers/generation/utils.py:1353: UserWarning: Using `max_length`'s default (128) to control the generation length. This behaviour is deprecated and will be removed from the config in v5 of Transformers -- we recommend using `max_new_tokens` to control the maximum length of the generation.\n",
            "  warnings.warn(\n"
          ]
        }
      ],
      "source": [
        "pegasus_summary = pegasus_abstractive_summarization(document)"
      ]
    },
    {
      "cell_type": "code",
      "execution_count": null,
      "metadata": {
        "colab": {
          "base_uri": "https://localhost:8080/"
        },
        "id": "QYgZ4RbjizYR",
        "outputId": "25a3836a-c3c2-419f-b873-982096b955fa"
      },
      "outputs": [
        {
          "output_type": "stream",
          "name": "stderr",
          "text": [
            "The tokenizer class you load from this checkpoint is not the same type as the class this function is called from. It may result in unexpected tokenization. \n",
            "The tokenizer class you load from this checkpoint is 'BartTokenizer'. \n",
            "The class this function is called from is 'PreTrainedTokenizerFast'.\n",
            "Truncation was not explicitly activated but `max_length` is provided a specific value, please use `truncation=True` to explicitly truncate examples to max length. Defaulting to 'longest_first' truncation strategy. If you encode pairs of sequences (GLUE-style) with the tokenizer you can select this strategy more precisely by providing a specific strategy to `truncation`.\n",
            "/usr/local/lib/python3.10/dist-packages/transformers/generation/utils.py:1353: UserWarning: Using `max_length`'s default (142) to control the generation length. This behaviour is deprecated and will be removed from the config in v5 of Transformers -- we recommend using `max_new_tokens` to control the maximum length of the generation.\n",
            "  warnings.warn(\n"
          ]
        }
      ],
      "source": [
        "bart_summary = bart_abstractive_summarization(document)"
      ]
    },
    {
      "cell_type": "code",
      "execution_count": null,
      "metadata": {
        "colab": {
          "base_uri": "https://localhost:8080/"
        },
        "id": "lgvdO9paizYS",
        "outputId": "75915ae2-c4dc-4f78-ac0f-7c2d30d168bf"
      },
      "outputs": [
        {
          "output_type": "stream",
          "name": "stdout",
          "text": [
            "Original Document:\n",
            "Bending and rising in spectacular fashion, these stunning pictures capture the paddy fields of south east Asia and the arduous life of the farmers who cultivate them. In a photo album that spans over China, Thailand, Vietnam, Laos and Cambodia, extraordinary images portray the crop's full cycle from the primitive sowing of seeds to the distribution of millions of tonnes for consumption. The pictures were taken by professional photographer Scott Gable, 39, who spent four months travelling across the region documenting the labour and threadbare equipment used to harvest the carbohydrate-rich food. Scroll down for video. Majestic: A farmer wades through the mud with a stick as late morning rain falls on top of Dragonsbone terraces in Longsheng County, China. Rice is a staple food for more than one-half the world's population, but for many consumers, its origin remains somewhat of a mystery. The crop accounts for one fifth of all calories consumed by humans and 87 per cent of it is produced in Asia. It is also the thirstiest crop there is - according to the UN, farmers need at least 2,000 litres of water to make one kilogram of rice. Mr Gable said he was determined to capture every stage of production with his Rice Project - from the planting to the harvesting all the way down to the shipping of the food. After acquiring some contacts from experts at Cornell University in New York and conducting his own research, he left for China last May and spent the next four months traveling. He said: 'The images were taken over a four month period from April to July last year across Asia. I visited China, Thailand, Vietnam, Laos and Cambodia as part of my Rice Project. Video courtesy of www.scottgable.com. Breathtaking: A paddy field worker toils on the beautiful landscape of Dragonsbone terraces in Longsheng County, China. Farmers' procession: A rice planting festival parade takes place near the village of Pingan in Guangxi Province, China. 'The project is one part of a larger three part project on global food staples - rice, corn and wheat. I am currently in the process of shooting the corn segment. 'The industrialisation of our food and mono-culture food staples have interested me for some time so that's probably what inspired me to do this project. 'I shot the whole project using a Canon SLR and GoPros. The actual shooting took four months and then post production took another four more months. 'The reaction to my work has been incredibly positive - I was able to secure a solo gallery show and create quite a bit of interest online which has been great.' Family crop: A Hani woman in traditional clothing sits on top of her family's rice store in Yunnan Province, China. Arduous labour: Employees of Taiwan's state-run rice experimental station are pictured beating rice husks by hand as the sun shines on them. Mr Gable spent months learning Mandarin Chinese in preparation for his trip, but the language barrier was still his greatest challenge. In an interview on photographic blog  Slate, he added: 'I had enough Chinese that I could get around in the big cities, but once I got into the highlands or mountains they don't speak Mandarin. 'There are so many different languages in China. That was very difficult. There's no iPhone translation for these dialects.' Mr Gable is already working on a new related project documenting corn production and after that, he plans to do a similar investigation of wheat. The three projects together form part of his mission to inspire people to think about food and its origins in an enlightened way. A world away from modern life: A Hani farmer is pictured using hand tools to ready a terrace for planting rice in China's Yunnan Province. Muddy work: A solitary famer wearing a traditoinal Asian conical hat labours in a paddy field in lowland  southern China. Tough life: An elderly Chinese farmer is seen carrying stacks of rice shoots to be planted in a field. Manufacturing process: A rice harvester dumps raw rice into a catch vehicle in Taitung, Taiwan, where more modern equipment is utilised. Primitive: A farmer ploughs a field using a bull in southern China - using a technique introduced thousands of years ago. Way of life: A Guangxi province highlands farmer clears a paddy field as the sun sets in southern China. Prepared for distribution: A worker at a Taiwanese rice-production facility near Fuli, Taiwan stands in front of giant sacks of the crop. The photographer was determined to capture every stage of rice production from the planting and harvesting all the way down to the shipping. Rice Project: Scott Gable said he was determined to capture every stage of production from the planting and harvesting to the shipping.\n",
            "\n",
            "Reference Summary:\n",
            "The spectacular photos were taken at paddy fields in China, Thailand, Vietnam, Laos and Cambodia.\n",
            "Photographer Scott Gable spent four months travelling region to document the process of harvesting the crop.\n",
            "Rice accounts for one fifth of all calories consumed by humans but crop is often still cultivated in primitive way.\n",
            "\n",
            "BART Summary:\n",
            "Photographer Scott Gable, 39, spent four months travelling across the region documenting the labour and threadbare equipment used to harvest the carbohydrate-rich food. Rice is a staple food for more than one-half the world's population, but for many consumers, its origin remains somewhat of a mystery. According to the UN, farmers need at least 2,000 litres of water to make one kilogram of rice.\n",
            "\n",
            "Pegasus Summary:\n",
            "Rice is a staple food for more than one-half the world's population, but for many consumers, its origin remains somewhat of a mystery .<n>The crop accounts for one fifth of all calories consumed by humans and 87 per cent of it is produced in Asia .<n>Professional photographer Scott Gable spent four months travelling across the region documenting the labour and threadbare equipment used to harvest the food .\n"
          ]
        }
      ],
      "source": [
        "print(\"Original Document:\")\n",
        "print(document)\n",
        "print()\n",
        "print(\"Reference Summary:\")\n",
        "print(summary)\n",
        "print()\n",
        "print(\"BART Summary:\")\n",
        "print(bart_summary)\n",
        "print()\n",
        "print(\"Pegasus Summary:\")\n",
        "print(pegasus_summary)\n"
      ]
    },
    {
      "cell_type": "code",
      "source": [
        "bart_summaries = [\n",
        "    bart_abstractive_summarization(document) for document in original_documents\n",
        "]"
      ],
      "metadata": {
        "colab": {
          "base_uri": "https://localhost:8080/"
        },
        "id": "3_mNgzplONM0",
        "outputId": "cccca601-3215-4a49-9e01-34e353b7ce0f"
      },
      "execution_count": null,
      "outputs": [
        {
          "output_type": "stream",
          "name": "stderr",
          "text": [
            "The tokenizer class you load from this checkpoint is not the same type as the class this function is called from. It may result in unexpected tokenization. \n",
            "The tokenizer class you load from this checkpoint is 'BartTokenizer'. \n",
            "The class this function is called from is 'PreTrainedTokenizerFast'.\n",
            "Truncation was not explicitly activated but `max_length` is provided a specific value, please use `truncation=True` to explicitly truncate examples to max length. Defaulting to 'longest_first' truncation strategy. If you encode pairs of sequences (GLUE-style) with the tokenizer you can select this strategy more precisely by providing a specific strategy to `truncation`.\n",
            "The tokenizer class you load from this checkpoint is not the same type as the class this function is called from. It may result in unexpected tokenization. \n",
            "The tokenizer class you load from this checkpoint is 'BartTokenizer'. \n",
            "The class this function is called from is 'PreTrainedTokenizerFast'.\n",
            "Truncation was not explicitly activated but `max_length` is provided a specific value, please use `truncation=True` to explicitly truncate examples to max length. Defaulting to 'longest_first' truncation strategy. If you encode pairs of sequences (GLUE-style) with the tokenizer you can select this strategy more precisely by providing a specific strategy to `truncation`.\n",
            "The tokenizer class you load from this checkpoint is not the same type as the class this function is called from. It may result in unexpected tokenization. \n",
            "The tokenizer class you load from this checkpoint is 'BartTokenizer'. \n",
            "The class this function is called from is 'PreTrainedTokenizerFast'.\n",
            "Truncation was not explicitly activated but `max_length` is provided a specific value, please use `truncation=True` to explicitly truncate examples to max length. Defaulting to 'longest_first' truncation strategy. If you encode pairs of sequences (GLUE-style) with the tokenizer you can select this strategy more precisely by providing a specific strategy to `truncation`.\n"
          ]
        }
      ]
    },
    {
      "cell_type": "code",
      "execution_count": null,
      "metadata": {
        "id": "RfizPOTfizYS"
      },
      "outputs": [],
      "source": [
        "rouge_n_scores, rouge_l_scores = calculate_rouge_scores(reference_summaries, bart_summaries)\n",
        "bleu_scores = calculate_bleu_score(reference_summaries, bart_summaries)\n",
        "meteor_scores = calculate_meteor_score(reference_summaries, bart_summaries)"
      ]
    },
    {
      "cell_type": "code",
      "source": [
        "print(\"ROUGE-N Scores:\")\n",
        "for n, scores in enumerate(rouge_n_scores, start=1):\n",
        "    print(f\"ROUGE-Summary-{n}: {scores}\")\n",
        "print()\n",
        "\n",
        "print(\"ROUGE-L Scores:\")\n",
        "for i, score in enumerate(rouge_l_scores, start=1):\n",
        "    print(f\"ROUGE-L-Summary-{i}: {score}\")\n",
        "print()\n",
        "print(\"BLEU Scores:\")\n",
        "for i, score in enumerate(bleu_scores, start=1):\n",
        "    print(f\"BLEU-Sentence-{i}: {score}\")\n",
        "print(\"METEOR Scores:\")\n",
        "for i, score in enumerate(meteor_scores, start=1):\n",
        "    print(f\"METEOR-Sentence-{i}: {score}\")"
      ],
      "metadata": {
        "colab": {
          "base_uri": "https://localhost:8080/"
        },
        "id": "LZvtsCaNNinE",
        "outputId": "16728163-0670-4662-caec-c33794088647"
      },
      "execution_count": null,
      "outputs": [
        {
          "output_type": "stream",
          "name": "stdout",
          "text": [
            "ROUGE-N Scores:\n",
            "ROUGE-Summary-1: [0.4057970966267591, 0.19178081718896617]\n",
            "ROUGE-Summary-2: [0.4186046465521904, 0.23913043024574673]\n",
            "ROUGE-Summary-3: [0.5352112626542352, 0.2643678111342318]\n",
            "\n",
            "ROUGE-L Scores:\n",
            "ROUGE-L-Summary-1: 0.3478260821340055\n",
            "ROUGE-L-Summary-2: 0.395348832598702\n",
            "ROUGE-L-Summary-3: 0.5211267556119817\n",
            "\n",
            "BLEU Scores:\n",
            "BLEU-Sentence-1: 0.12666081076387806\n",
            "BLEU-Sentence-2: 0.1508349945785359\n",
            "BLEU-Sentence-3: 0.2472029285786101\n",
            "METEOR Scores:\n",
            "METEOR-Sentence-1: 0.45636418966896974\n",
            "METEOR-Sentence-2: 0.46620950258942556\n",
            "METEOR-Sentence-3: 0.4679024125016793\n"
          ]
        }
      ]
    },
    {
      "cell_type": "code",
      "source": [
        "pegasus_summaries = [\n",
        "    pegasus_abstractive_summarization(document) for document in original_documents\n",
        "]"
      ],
      "metadata": {
        "colab": {
          "base_uri": "https://localhost:8080/"
        },
        "id": "lWSwJcheQJP7",
        "outputId": "0150a318-e25c-4356-dd3f-4a29e92ccdbf"
      },
      "execution_count": null,
      "outputs": [
        {
          "output_type": "stream",
          "name": "stderr",
          "text": [
            "Truncation was not explicitly activated but `max_length` is provided a specific value, please use `truncation=True` to explicitly truncate examples to max length. Defaulting to 'longest_first' truncation strategy. If you encode pairs of sequences (GLUE-style) with the tokenizer you can select this strategy more precisely by providing a specific strategy to `truncation`.\n",
            "Truncation was not explicitly activated but `max_length` is provided a specific value, please use `truncation=True` to explicitly truncate examples to max length. Defaulting to 'longest_first' truncation strategy. If you encode pairs of sequences (GLUE-style) with the tokenizer you can select this strategy more precisely by providing a specific strategy to `truncation`.\n",
            "Truncation was not explicitly activated but `max_length` is provided a specific value, please use `truncation=True` to explicitly truncate examples to max length. Defaulting to 'longest_first' truncation strategy. If you encode pairs of sequences (GLUE-style) with the tokenizer you can select this strategy more precisely by providing a specific strategy to `truncation`.\n"
          ]
        }
      ]
    },
    {
      "cell_type": "code",
      "source": [
        "rouge_n_scores, rouge_l_scores = calculate_rouge_scores(reference_summaries, pegasus_summaries)\n",
        "bleu_scores = calculate_bleu_score(reference_summaries, pegasus_summaries)\n",
        "meteor_scores = calculate_meteor_score(reference_summaries, pegasus_summaries)"
      ],
      "metadata": {
        "id": "40JpgOnHu8pb"
      },
      "execution_count": null,
      "outputs": []
    },
    {
      "cell_type": "code",
      "source": [
        "print(\"ROUGE-N Scores:\")\n",
        "for n, scores in enumerate(rouge_n_scores, start=1):\n",
        "    print(f\"ROUGE-Summary-{n}: {scores}\")\n",
        "print()\n",
        "\n",
        "print(\"ROUGE-L Scores:\")\n",
        "for i, score in enumerate(rouge_l_scores, start=1):\n",
        "    print(f\"ROUGE-L-Summary-{i}: {score}\")\n",
        "print()\n",
        "print(\"BLEU Scores:\")\n",
        "for i, score in enumerate(bleu_scores, start=1):\n",
        "    print(f\"BLEU-Sentence-{i}: {score}\")\n",
        "print(\"METEOR Scores:\")\n",
        "for i, score in enumerate(meteor_scores, start=1):\n",
        "    print(f\"METEOR-Sentence-{i}: {score}\")"
      ],
      "metadata": {
        "colab": {
          "base_uri": "https://localhost:8080/"
        },
        "id": "MhIdiyGRRgIy",
        "outputId": "d987af38-e3db-44fc-a2c3-0be2ad65c39c"
      },
      "execution_count": null,
      "outputs": [
        {
          "output_type": "stream",
          "name": "stdout",
          "text": [
            "ROUGE-N Scores:\n",
            "ROUGE-Summary-1: [0.3055555508024692, 0.0821917760930759]\n",
            "ROUGE-Summary-2: [0.3013698581272284, 0.13333332844088908]\n",
            "ROUGE-Summary-3: [0.5179856065421046, 0.2721893441336088]\n",
            "\n",
            "ROUGE-L Scores:\n",
            "ROUGE-L-Summary-1: 0.3055555508024692\n",
            "ROUGE-L-Summary-2: 0.27397259785325584\n",
            "ROUGE-L-Summary-3: 0.5179856065421046\n",
            "\n",
            "BLEU Scores:\n",
            "BLEU-Sentence-1: 0.014011697931222915\n",
            "BLEU-Sentence-2: 0.03330561328164072\n",
            "BLEU-Sentence-3: 0.24350338602476607\n",
            "METEOR Scores:\n",
            "METEOR-Sentence-1: 0.24077669902912624\n",
            "METEOR-Sentence-2: 0.302125123553695\n",
            "METEOR-Sentence-3: 0.4557505506848245\n"
          ]
        }
      ]
    },
    {
      "cell_type": "code",
      "execution_count": null,
      "metadata": {
        "id": "Kg7dctiLizYS"
      },
      "outputs": [],
      "source": [
        "def prophetnet_abstractive_summarization(document):\n",
        "\n",
        "    model = ProphetNetForConditionalGeneration.from_pretrained(\"microsoft/prophetnet-large-uncased-cnndm\")\n",
        "    tokenizer = AutoTokenizer.from_pretrained(\"microsoft/prophetnet-large-uncased-cnndm\")\n",
        "\n",
        "\n",
        "    inputs = tokenizer(document, max_length=1024, return_tensors=\"pt\")\n",
        "\n",
        "    # Generating Summary\n",
        "    summary_ids = model.generate(inputs[\"input_ids\"])\n",
        "    return tokenizer.batch_decode(summary_ids, skip_special_tokens=True, clean_up_tokenization_spaces=False)[0]"
      ]
    },
    {
      "cell_type": "code",
      "execution_count": null,
      "metadata": {
        "colab": {
          "base_uri": "https://localhost:8080/",
          "height": 248,
          "referenced_widgets": [
            "a0a8de2c56304a05836443143b931c2d",
            "d688de70633a41ec8ad12e429da480ac",
            "cb283757115a43669c1e483d9806457c",
            "c618e1c987b0431c9db53108734a2a41",
            "4cdcfc28fad144d1914d6054c62f88c9",
            "5568eaff12964d1d888672210fcfa39c",
            "7048cec80a354b21af6388ff0dd811df",
            "d97f4f64ef8142c2b68a4ad733a81ddb",
            "3f840500c65a453b80247fee63fec6c9",
            "a1380aba7b464fb8ab432162ad98d691",
            "2c690a20f8e8422a9fe545934bd5550a",
            "60121da606664a8d825a6921710776f1",
            "32e88ed8d766437385485e76b304c078",
            "a72c62d245b14a36be34ecc6deb7b63f",
            "55121c334d8d48a38be6720fd28bc8d9",
            "d0ca91b4e4b64504a2287ec6e5cac1bb",
            "855af0d9341540c996338efcec86c08d",
            "7b964659e34b4354960780892be240d5",
            "1da267ecb221423db5d6e23f47453d03",
            "b545081ad90e49bfa4eb3f0c4e1d5a5f",
            "b38c2315a6d842ff87dc0d782c2cbae5",
            "5736872551904dfab95da22edd3393b4",
            "11734f896f90482ebf0a8c988ec371f7",
            "fff74dfb41de4a7eb2c3706b069fec2b",
            "c8e64c1dbe2947c58f0a37f381cbe6db",
            "e68dd61290ba40778a825663e87dda13",
            "f89088cdddc7452f9c4fdd04bab2ae6b",
            "b771b8931dd14f23acb4e4d09d457cea",
            "d7f3f48a7960418393cd0d391f8a02d3",
            "2e5de561bd8743c0890c183e75b633bc",
            "db548b0a8468467ebe7255e02860f3c1",
            "8665ead9073d47ac8c5a5549929093e5",
            "ae5ba8da602b4a2393757ab322279513",
            "e27916b965324847a892bc1ca598d3c7",
            "d8a696be6b484a73a80369afb94f0d4e",
            "aa209d5096934cbb899fc7d6675dabdc",
            "1272aefee3344be2b658a4693727e241",
            "f72c21fda57f4559a35f807312fd6be2",
            "f8e5c10ef9ca4d9dbfd8b791e4395207",
            "b71527b817f84b6d861008eb6845bfe1",
            "cb797e2d677f4fe9a8b65b8de5ec96e4",
            "1769f94336c04923ba57142bfb3d3a41",
            "3d5b800911e54837bb5d1f4618c66f37",
            "7f6c48f40efb44a6b56017e434d6d9ba",
            "6081dbba887844679fe4897e290e6b24",
            "82e882ebdc5b47dabe4e153b2332024e",
            "70e457d22de04132a625916536942365",
            "a9ca1a6ff379415e8515a8a00bb971f6",
            "cc21aa8500484cdda65a5b9e349fec58",
            "0aa99d9033224dbba93887aa3800241d",
            "108d644caa0c4c00a9ce141ad5c70596",
            "24dfeb92e2c7467f85f0cb36d23bc435",
            "ae9ccb66d0a741b3bc3ae03ba49b24d7",
            "2f2f10cd544642308e54e6bcdb9cddc6",
            "6b5e76903552411e9bb03c17c8eddad9"
          ]
        },
        "id": "NDZMOAzRizYT",
        "outputId": "0e84e674-c78e-4e3f-89db-228860f95448"
      },
      "outputs": [
        {
          "output_type": "display_data",
          "data": {
            "text/plain": [
              "Downloading pytorch_model.bin:   0%|          | 0.00/1.57G [00:00<?, ?B/s]"
            ],
            "application/vnd.jupyter.widget-view+json": {
              "version_major": 2,
              "version_minor": 0,
              "model_id": "a0a8de2c56304a05836443143b931c2d"
            }
          },
          "metadata": {}
        },
        {
          "output_type": "display_data",
          "data": {
            "text/plain": [
              "Downloading (…)neration_config.json:   0%|          | 0.00/174 [00:00<?, ?B/s]"
            ],
            "application/vnd.jupyter.widget-view+json": {
              "version_major": 2,
              "version_minor": 0,
              "model_id": "60121da606664a8d825a6921710776f1"
            }
          },
          "metadata": {}
        },
        {
          "output_type": "display_data",
          "data": {
            "text/plain": [
              "Downloading (…)okenizer_config.json:   0%|          | 0.00/256 [00:00<?, ?B/s]"
            ],
            "application/vnd.jupyter.widget-view+json": {
              "version_major": 2,
              "version_minor": 0,
              "model_id": "11734f896f90482ebf0a8c988ec371f7"
            }
          },
          "metadata": {}
        },
        {
          "output_type": "display_data",
          "data": {
            "text/plain": [
              "Downloading (…)prophetnet.tokenizer: 0.00B [00:00, ?B/s]"
            ],
            "application/vnd.jupyter.widget-view+json": {
              "version_major": 2,
              "version_minor": 0,
              "model_id": "e27916b965324847a892bc1ca598d3c7"
            }
          },
          "metadata": {}
        },
        {
          "output_type": "display_data",
          "data": {
            "text/plain": [
              "Downloading (…)cial_tokens_map.json:   0%|          | 0.00/112 [00:00<?, ?B/s]"
            ],
            "application/vnd.jupyter.widget-view+json": {
              "version_major": 2,
              "version_minor": 0,
              "model_id": "6081dbba887844679fe4897e290e6b24"
            }
          },
          "metadata": {}
        },
        {
          "output_type": "stream",
          "name": "stderr",
          "text": [
            "Truncation was not explicitly activated but `max_length` is provided a specific value, please use `truncation=True` to explicitly truncate examples to max length. Defaulting to 'longest_first' truncation strategy. If you encode pairs of sequences (GLUE-style) with the tokenizer you can select this strategy more precisely by providing a specific strategy to `truncation`.\n",
            "/usr/local/lib/python3.10/dist-packages/transformers/generation/utils.py:1353: UserWarning: Using `max_length`'s default (20) to control the generation length. This behaviour is deprecated and will be removed from the config in v5 of Transformers -- we recommend using `max_new_tokens` to control the maximum length of the generation.\n",
            "  warnings.warn(\n"
          ]
        }
      ],
      "source": [
        "prophetnet_summary = prophetnet_abstractive_summarization(document)\n"
      ]
    },
    {
      "cell_type": "code",
      "source": [
        "prophetnet_summary"
      ],
      "metadata": {
        "colab": {
          "base_uri": "https://localhost:8080/",
          "height": 35
        },
        "id": "ovlfhvqQvo7r",
        "outputId": "18f44b5d-d6cd-4887-ef19-45a9d9e3472f"
      },
      "execution_count": null,
      "outputs": [
        {
          "output_type": "execute_result",
          "data": {
            "text/plain": [
              "'scott gable , 39 , spent four months travelling across the region documenting the labour and threadbare'"
            ],
            "application/vnd.google.colaboratory.intrinsic+json": {
              "type": "string"
            }
          },
          "metadata": {},
          "execution_count": 38
        }
      ]
    },
    {
      "cell_type": "code",
      "source": [
        "prophetnet_summaries = [\n",
        "    prophetnet_abstractive_summarization(document) for document in original_documents\n",
        "]"
      ],
      "metadata": {
        "colab": {
          "base_uri": "https://localhost:8080/"
        },
        "id": "ciWYbvRDR2T_",
        "outputId": "692f73e8-dadd-4e20-f8e9-f4fdb5aad73c"
      },
      "execution_count": null,
      "outputs": [
        {
          "output_type": "stream",
          "name": "stderr",
          "text": [
            "Truncation was not explicitly activated but `max_length` is provided a specific value, please use `truncation=True` to explicitly truncate examples to max length. Defaulting to 'longest_first' truncation strategy. If you encode pairs of sequences (GLUE-style) with the tokenizer you can select this strategy more precisely by providing a specific strategy to `truncation`.\n",
            "Truncation was not explicitly activated but `max_length` is provided a specific value, please use `truncation=True` to explicitly truncate examples to max length. Defaulting to 'longest_first' truncation strategy. If you encode pairs of sequences (GLUE-style) with the tokenizer you can select this strategy more precisely by providing a specific strategy to `truncation`.\n",
            "Truncation was not explicitly activated but `max_length` is provided a specific value, please use `truncation=True` to explicitly truncate examples to max length. Defaulting to 'longest_first' truncation strategy. If you encode pairs of sequences (GLUE-style) with the tokenizer you can select this strategy more precisely by providing a specific strategy to `truncation`.\n"
          ]
        }
      ]
    },
    {
      "cell_type": "code",
      "source": [
        "rouge_n_scores, rouge_l_scores = calculate_rouge_scores(reference_summaries, prophetnet_summaries)\n",
        "bleu_scores = calculate_bleu_score(reference_summaries, prophetnet_summaries)\n",
        "meteor_scores = calculate_meteor_score(reference_summaries, prophetnet_summaries)"
      ],
      "metadata": {
        "id": "toWqJbbxR5Mh"
      },
      "execution_count": null,
      "outputs": []
    },
    {
      "cell_type": "code",
      "source": [
        "print(\"ROUGE-N Scores:\")\n",
        "for n, scores in enumerate(rouge_n_scores, start=1):\n",
        "    print(f\"ROUGE-Summary-{n}: {scores}\")\n",
        "print()\n",
        "\n",
        "print(\"ROUGE-L Scores:\")\n",
        "for i, score in enumerate(rouge_l_scores, start=1):\n",
        "    print(f\"ROUGE-L-Summary-{i}: {score}\")\n",
        "print()\n",
        "print(\"BLEU Scores:\")\n",
        "for i, score in enumerate(bleu_scores, start=1):\n",
        "    print(f\"BLEU-Sentence-{i}: {score}\")\n",
        "print()\n",
        "print(\"METEOR Scores:\")\n",
        "for i, score in enumerate(meteor_scores, start=1):\n",
        "    print(f\"METEOR-Sentence-{i}: {score}\")"
      ],
      "metadata": {
        "colab": {
          "base_uri": "https://localhost:8080/"
        },
        "id": "0sY_5PTMSA2p",
        "outputId": "c4418b56-1c95-47bf-a269-d49cdf2f6104"
      },
      "execution_count": null,
      "outputs": [
        {
          "output_type": "stream",
          "name": "stdout",
          "text": [
            "ROUGE-N Scores:\n",
            "ROUGE-Summary-1: [0.0, 0.0]\n",
            "ROUGE-Summary-2: [0.29787233593481216, 0.16666666222222234]\n",
            "ROUGE-Summary-3: [0.12820512525969763, 0.06315789193573419]\n",
            "\n",
            "ROUGE-L Scores:\n",
            "ROUGE-L-Summary-1: 0.0\n",
            "ROUGE-L-Summary-2: 0.29787233593481216\n",
            "ROUGE-L-Summary-3: 0.12820512525969763\n",
            "\n",
            "BLEU Scores:\n",
            "BLEU-Sentence-1: 0\n",
            "BLEU-Sentence-2: 0.033401409050084305\n",
            "BLEU-Sentence-3: 0.004293055074527583\n",
            "\n",
            "METEOR Scores:\n",
            "METEOR-Sentence-1: 0.036101083032490974\n",
            "METEOR-Sentence-2: 0.39178634416729646\n",
            "METEOR-Sentence-3: 0.12550200803212855\n"
          ]
        }
      ]
    },
    {
      "cell_type": "code",
      "source": [
        "# Implementing T5 for abstractive summarization\n",
        "def t5_abstractive_summarization(document):\n",
        "    # T5 pipeline\n",
        "    from transformers import AutoTokenizer, AutoModelForSeq2SeqLM, DataCollatorForSeq2Seq, Seq2SeqTrainingArguments, Seq2SeqTrainer, AutoModelWithLMHead\n",
        "\n",
        "    tokenizer = AutoTokenizer.from_pretrained('T5-large')\n",
        "    model = AutoModelWithLMHead.from_pretrained('T5-large', return_dict=True)\n",
        "    # generating summary\n",
        "\n",
        "    input_ids = tokenizer.encode(f\"summarize: {document}\", return_tensors='pt',\n",
        "                                 max_length=512, truncation=True)\n",
        "    summary_ids = model.generate(input_ids,\n",
        "                min_length=20,\n",
        "                max_length=80,\n",
        "                num_beams=10,\n",
        "                repetition_penalty=2.5,\n",
        "                length_penalty=1.0,\n",
        "                early_stopping=True,\n",
        "                no_repeat_ngram_size=2,\n",
        "                use_cache=True,\n",
        "                do_sample = True,\n",
        "                temperature = 0.8,\n",
        "                top_k = 50,\n",
        "                top_p = 0.95)\n",
        "\n",
        "    summary_text = tokenizer.decode(summary_ids[0], skip_special_tokens=True)\n",
        "    return summary_text"
      ],
      "metadata": {
        "id": "U23lH23mlXPq"
      },
      "execution_count": null,
      "outputs": []
    },
    {
      "cell_type": "code",
      "source": [
        "t5_summary = t5_abstractive_summarization(document)"
      ],
      "metadata": {
        "colab": {
          "base_uri": "https://localhost:8080/",
          "height": 231,
          "referenced_widgets": [
            "edbf66e715a54fb2b57c87d4fcf27396",
            "26b8dcd55cf7404ea5cb659271f750b0",
            "d34eb7fcb5d444788d261572d4bee8eb",
            "701dd79d0b8944478caa836536887825",
            "3472972b6bbb42a2b694f2c170488128",
            "6f019581249049b59fe066cb0ae2f1fa",
            "d497e35f3ca549c9a4a09d7ee0981672",
            "049463ca347a4539a1dcaed46cf823c1",
            "1150b2ba2a60423caf4cf3905fb4619d",
            "c1041a0555dc463e82771e747bfab67b",
            "e946e3d917bb4bcbbfeaeb1367cc16d7",
            "3dd11b3dc8f3409eb8ad6441513d30f2",
            "148c7dc073fb475f90291f45c68d1a3c",
            "1dd90c948297469eb26e17bf571eac16",
            "95c6980ac9bc485d9e8e2b43a5f24c7b",
            "0bd6fa20cdbe43cdb081d2195df269b6",
            "0e286cfca6444206af4de06c812ed85e",
            "b31bbb4129f248f995aecc541192bb5d",
            "004363fbaa654835867dd728d8caeb01",
            "3d9d80eeb85f47979a2b9cb0e0f84517",
            "09b1918d9b454c63b3188e67ee4b31f2",
            "b11958f00fe44e0fabce4000829fd4cb",
            "50756673b4d74d52b535de17271d5f7a",
            "babff25df564436b81d8bca9253afd93",
            "82446217808f41dfba6bdcdf0bd60c74",
            "9f527edea67846a988dcf232186164cc",
            "ffac43cd92034a7688e5e28e0558c331",
            "79e8bd2418ac4cfcb42cfd54eeadbcfe",
            "6276458eccce43f196eb8e57f4d8644b",
            "06aca603bc674579bedf47a4091a794e",
            "622e442e25cb4a0a9f0b398f16100334",
            "17ec7aaa34d541ce889649e3afccd6b2",
            "c4fea69d5f5d4c7e86ff119303954b15",
            "e661587c7e5d45c28abfb16c41cbe52d",
            "db939eedbed54ba5bd7fc5a737d64a8c",
            "888f29ed66104a9e9af95c87c4e4f363",
            "b5878668ab524c658007c35f8ebd4f88",
            "70e82df313a44082aee5c1247eaa92b0",
            "ac28b5a168b649bcb877a60abe19515b",
            "7dcac63749ba4026a8372cae64c32873",
            "099f041069674be78dc9aadf8f9d1098",
            "3ee07a7733bf42d398be3f7784cef781",
            "5667580feb324a57b091e0ecd51d9ef9",
            "e06cf37abe3a4864b46da9a3ae42cdf1",
            "36242e8db3944faa8f133a6fb5d25259",
            "a4eb97261fb942c4a17b686d99be147f",
            "226f850685f943e9b13225399ce29a47",
            "105455802dc3429aa044397152818a4e",
            "ad2e5d7e7c30453c8f727b9c7aec51c0",
            "6bd90ae605e5478283aee392a2f6c15f",
            "21b9b811ddbf4c4b880832c445feb190",
            "916e5300086742fb9b711ddddca11fb8",
            "ca58c90812d740c28b0901a8a600ee80",
            "53c022cf002b433c88b966c9b9d66257",
            "014a5737813d494fa4bb70ffa55474ab"
          ]
        },
        "id": "QDaxQc_ClZEK",
        "outputId": "2bfd2378-8137-493c-9116-e210f108505c"
      },
      "execution_count": null,
      "outputs": [
        {
          "output_type": "display_data",
          "data": {
            "text/plain": [
              "Downloading (…)lve/main/config.json: 0.00B [00:00, ?B/s]"
            ],
            "application/vnd.jupyter.widget-view+json": {
              "version_major": 2,
              "version_minor": 0,
              "model_id": "edbf66e715a54fb2b57c87d4fcf27396"
            }
          },
          "metadata": {}
        },
        {
          "output_type": "display_data",
          "data": {
            "text/plain": [
              "Downloading (…)ve/main/spiece.model:   0%|          | 0.00/792k [00:00<?, ?B/s]"
            ],
            "application/vnd.jupyter.widget-view+json": {
              "version_major": 2,
              "version_minor": 0,
              "model_id": "3dd11b3dc8f3409eb8ad6441513d30f2"
            }
          },
          "metadata": {}
        },
        {
          "output_type": "display_data",
          "data": {
            "text/plain": [
              "Downloading (…)/main/tokenizer.json: 0.00B [00:00, ?B/s]"
            ],
            "application/vnd.jupyter.widget-view+json": {
              "version_major": 2,
              "version_minor": 0,
              "model_id": "50756673b4d74d52b535de17271d5f7a"
            }
          },
          "metadata": {}
        },
        {
          "output_type": "stream",
          "name": "stderr",
          "text": [
            "/usr/local/lib/python3.10/dist-packages/transformers/models/auto/modeling_auto.py:1362: FutureWarning: The class `AutoModelWithLMHead` is deprecated and will be removed in a future version. Please use `AutoModelForCausalLM` for causal language models, `AutoModelForMaskedLM` for masked language models and `AutoModelForSeq2SeqLM` for encoder-decoder models.\n",
            "  warnings.warn(\n"
          ]
        },
        {
          "output_type": "display_data",
          "data": {
            "text/plain": [
              "Downloading model.safetensors:   0%|          | 0.00/2.95G [00:00<?, ?B/s]"
            ],
            "application/vnd.jupyter.widget-view+json": {
              "version_major": 2,
              "version_minor": 0,
              "model_id": "e661587c7e5d45c28abfb16c41cbe52d"
            }
          },
          "metadata": {}
        },
        {
          "output_type": "display_data",
          "data": {
            "text/plain": [
              "Downloading (…)neration_config.json:   0%|          | 0.00/147 [00:00<?, ?B/s]"
            ],
            "application/vnd.jupyter.widget-view+json": {
              "version_major": 2,
              "version_minor": 0,
              "model_id": "36242e8db3944faa8f133a6fb5d25259"
            }
          },
          "metadata": {}
        }
      ]
    },
    {
      "cell_type": "code",
      "source": [
        "t5_summary"
      ],
      "metadata": {
        "colab": {
          "base_uri": "https://localhost:8080/",
          "height": 52
        },
        "id": "f7qigk2zHFDr",
        "outputId": "124ee2ef-1de3-4339-88fb-835af776630f"
      },
      "execution_count": null,
      "outputs": [
        {
          "output_type": "execute_result",
          "data": {
            "text/plain": [
              "\"photographer Scott gable spent four months travelling across south east Asia documenting the crop's full cycle. extraordinary images span china, Thailand, Vietnam, laos and Cambodia in a photo album that spans over six countries - including vietnam and thailand – as well as the united states of america (us)\""
            ],
            "application/vnd.google.colaboratory.intrinsic+json": {
              "type": "string"
            }
          },
          "metadata": {},
          "execution_count": 44
        }
      ]
    },
    {
      "cell_type": "code",
      "execution_count": null,
      "metadata": {
        "colab": {
          "base_uri": "https://localhost:8080/"
        },
        "id": "48bjDi0YizYT",
        "outputId": "b7f616ae-e4d1-40e3-cc99-8ac62621a722"
      },
      "outputs": [
        {
          "output_type": "stream",
          "name": "stdout",
          "text": [
            "Original Document:\n",
            "Bending and rising in spectacular fashion, these stunning pictures capture the paddy fields of south east Asia and the arduous life of the farmers who cultivate them. In a photo album that spans over China, Thailand, Vietnam, Laos and Cambodia, extraordinary images portray the crop's full cycle from the primitive sowing of seeds to the distribution of millions of tonnes for consumption. The pictures were taken by professional photographer Scott Gable, 39, who spent four months travelling across the region documenting the labour and threadbare equipment used to harvest the carbohydrate-rich food. Scroll down for video. Majestic: A farmer wades through the mud with a stick as late morning rain falls on top of Dragonsbone terraces in Longsheng County, China. Rice is a staple food for more than one-half the world's population, but for many consumers, its origin remains somewhat of a mystery. The crop accounts for one fifth of all calories consumed by humans and 87 per cent of it is produced in Asia. It is also the thirstiest crop there is - according to the UN, farmers need at least 2,000 litres of water to make one kilogram of rice. Mr Gable said he was determined to capture every stage of production with his Rice Project - from the planting to the harvesting all the way down to the shipping of the food. After acquiring some contacts from experts at Cornell University in New York and conducting his own research, he left for China last May and spent the next four months traveling. He said: 'The images were taken over a four month period from April to July last year across Asia. I visited China, Thailand, Vietnam, Laos and Cambodia as part of my Rice Project. Video courtesy of www.scottgable.com. Breathtaking: A paddy field worker toils on the beautiful landscape of Dragonsbone terraces in Longsheng County, China. Farmers' procession: A rice planting festival parade takes place near the village of Pingan in Guangxi Province, China. 'The project is one part of a larger three part project on global food staples - rice, corn and wheat. I am currently in the process of shooting the corn segment. 'The industrialisation of our food and mono-culture food staples have interested me for some time so that's probably what inspired me to do this project. 'I shot the whole project using a Canon SLR and GoPros. The actual shooting took four months and then post production took another four more months. 'The reaction to my work has been incredibly positive - I was able to secure a solo gallery show and create quite a bit of interest online which has been great.' Family crop: A Hani woman in traditional clothing sits on top of her family's rice store in Yunnan Province, China. Arduous labour: Employees of Taiwan's state-run rice experimental station are pictured beating rice husks by hand as the sun shines on them. Mr Gable spent months learning Mandarin Chinese in preparation for his trip, but the language barrier was still his greatest challenge. In an interview on photographic blog  Slate, he added: 'I had enough Chinese that I could get around in the big cities, but once I got into the highlands or mountains they don't speak Mandarin. 'There are so many different languages in China. That was very difficult. There's no iPhone translation for these dialects.' Mr Gable is already working on a new related project documenting corn production and after that, he plans to do a similar investigation of wheat. The three projects together form part of his mission to inspire people to think about food and its origins in an enlightened way. A world away from modern life: A Hani farmer is pictured using hand tools to ready a terrace for planting rice in China's Yunnan Province. Muddy work: A solitary famer wearing a traditoinal Asian conical hat labours in a paddy field in lowland  southern China. Tough life: An elderly Chinese farmer is seen carrying stacks of rice shoots to be planted in a field. Manufacturing process: A rice harvester dumps raw rice into a catch vehicle in Taitung, Taiwan, where more modern equipment is utilised. Primitive: A farmer ploughs a field using a bull in southern China - using a technique introduced thousands of years ago. Way of life: A Guangxi province highlands farmer clears a paddy field as the sun sets in southern China. Prepared for distribution: A worker at a Taiwanese rice-production facility near Fuli, Taiwan stands in front of giant sacks of the crop. The photographer was determined to capture every stage of rice production from the planting and harvesting all the way down to the shipping. Rice Project: Scott Gable said he was determined to capture every stage of production from the planting and harvesting to the shipping.\n",
            "\n",
            "Reference Summary:\n",
            "The spectacular photos were taken at paddy fields in China, Thailand, Vietnam, Laos and Cambodia.\n",
            "Photographer Scott Gable spent four months travelling region to document the process of harvesting the crop.\n",
            "Rice accounts for one fifth of all calories consumed by humans but crop is often still cultivated in primitive way.\n",
            "\n",
            "ProphetNET Summary:\n",
            "scott gable , 39 , spent four months travelling across the region documenting the labour and threadbare\n",
            "\n",
            "T5 Summary:\n",
            "photographer Scott gable spent four months travelling across south east Asia documenting the crop's full cycle. extraordinary images span china, Thailand, Vietnam, laos and Cambodia in a photo album that spans over six countries - including vietnam and thailand – as well as the united states of america (us)\n",
            "\n"
          ]
        }
      ],
      "source": [
        "#the original document and the summaries\n",
        "print(\"Original Document:\")\n",
        "print(document)\n",
        "print()\n",
        "print(\"Reference Summary:\")\n",
        "print(summary)\n",
        "print()\n",
        "print(\"ProphetNET Summary:\")\n",
        "print(prophetnet_summary)\n",
        "print()\n",
        "print(\"T5 Summary:\")\n",
        "print(t5_summary)\n",
        "print()\n"
      ]
    },
    {
      "cell_type": "code",
      "source": [
        "t5_summaries = [\n",
        "    t5_abstractive_summarization(document) for document in original_documents\n",
        "]"
      ],
      "metadata": {
        "id": "vpzRmyY8Tc9P"
      },
      "execution_count": null,
      "outputs": []
    },
    {
      "cell_type": "code",
      "source": [
        "rouge_n_scores, rouge_l_scores = calculate_rouge_scores(reference_summaries, t5_summaries)\n",
        "bleu_scores = calculate_bleu_score(reference_summaries, t5_summaries)\n",
        "meteor_scores = calculate_meteor_score(reference_summaries, t5_summaries)"
      ],
      "metadata": {
        "id": "mCXkyQI6T-9T"
      },
      "execution_count": null,
      "outputs": []
    },
    {
      "cell_type": "code",
      "source": [
        "print(\"ROUGE-N Scores:\")\n",
        "for n, scores in enumerate(rouge_n_scores, start=1):\n",
        "    print(f\"ROUGE-Summary-{n}: {scores}\")\n",
        "print()\n",
        "\n",
        "print(\"ROUGE-L Scores:\")\n",
        "for i, score in enumerate(rouge_l_scores, start=1):\n",
        "    print(f\"ROUGE-L-Summary-{i}: {score}\")\n",
        "print()\n",
        "print(\"BLEU Scores:\")\n",
        "for i, score in enumerate(bleu_scores, start=1):\n",
        "    print(f\"BLEU-Sentence-{i}: {score}\")\n",
        "print()\n",
        "print(\"METEOR Scores:\")\n",
        "for i, score in enumerate(meteor_scores, start=1):\n",
        "    print(f\"METEOR-Sentence-{i}: {score}\")"
      ],
      "metadata": {
        "colab": {
          "base_uri": "https://localhost:8080/"
        },
        "id": "jrVwCf00Th0N",
        "outputId": "f2ef7dd3-4df2-4f0e-8847-02da7beb75be"
      },
      "execution_count": null,
      "outputs": [
        {
          "output_type": "stream",
          "name": "stdout",
          "text": [
            "ROUGE-N Scores:\n",
            "ROUGE-Summary-1: [0.23529411269511738, 0.0]\n",
            "ROUGE-Summary-2: [0.2857142807155456, 0.11764705384083066]\n",
            "ROUGE-Summary-3: [0.4554455399117734, 0.3247863204003215]\n",
            "\n",
            "ROUGE-L Scores:\n",
            "ROUGE-L-Summary-1: 0.19607842642060758\n",
            "ROUGE-L-Summary-2: 0.2857142807155456\n",
            "ROUGE-L-Summary-3: 0.4356435597137536\n",
            "\n",
            "BLEU Scores:\n",
            "BLEU-Sentence-1: 0.009607695286097472\n",
            "BLEU-Sentence-2: 0.040817873232580605\n",
            "BLEU-Sentence-3: 0.17564334948553292\n",
            "\n",
            "METEOR Scores:\n",
            "METEOR-Sentence-1: 0.12280701754385967\n",
            "METEOR-Sentence-2: 0.3906819424198251\n",
            "METEOR-Sentence-3: 0.3151041666666666\n"
          ]
        }
      ]
    }
  ],
  "metadata": {
    "kernelspec": {
      "display_name": "Python 3 (ipykernel)",
      "language": "python",
      "name": "python3"
    },
    "language_info": {
      "codemirror_mode": {
        "name": "ipython",
        "version": 3
      },
      "file_extension": ".py",
      "mimetype": "text/x-python",
      "name": "python",
      "nbconvert_exporter": "python",
      "pygments_lexer": "ipython3",
      "version": "3.11.4"
    },
    "colab": {
      "provenance": []
    },
    "widgets": {
      "application/vnd.jupyter.widget-state+json": {
        "a0a8de2c56304a05836443143b931c2d": {
          "model_module": "@jupyter-widgets/controls",
          "model_name": "HBoxModel",
          "model_module_version": "1.5.0",
          "state": {
            "_dom_classes": [],
            "_model_module": "@jupyter-widgets/controls",
            "_model_module_version": "1.5.0",
            "_model_name": "HBoxModel",
            "_view_count": null,
            "_view_module": "@jupyter-widgets/controls",
            "_view_module_version": "1.5.0",
            "_view_name": "HBoxView",
            "box_style": "",
            "children": [
              "IPY_MODEL_d688de70633a41ec8ad12e429da480ac",
              "IPY_MODEL_cb283757115a43669c1e483d9806457c",
              "IPY_MODEL_c618e1c987b0431c9db53108734a2a41"
            ],
            "layout": "IPY_MODEL_4cdcfc28fad144d1914d6054c62f88c9"
          }
        },
        "d688de70633a41ec8ad12e429da480ac": {
          "model_module": "@jupyter-widgets/controls",
          "model_name": "HTMLModel",
          "model_module_version": "1.5.0",
          "state": {
            "_dom_classes": [],
            "_model_module": "@jupyter-widgets/controls",
            "_model_module_version": "1.5.0",
            "_model_name": "HTMLModel",
            "_view_count": null,
            "_view_module": "@jupyter-widgets/controls",
            "_view_module_version": "1.5.0",
            "_view_name": "HTMLView",
            "description": "",
            "description_tooltip": null,
            "layout": "IPY_MODEL_5568eaff12964d1d888672210fcfa39c",
            "placeholder": "​",
            "style": "IPY_MODEL_7048cec80a354b21af6388ff0dd811df",
            "value": "Downloading pytorch_model.bin: 100%"
          }
        },
        "cb283757115a43669c1e483d9806457c": {
          "model_module": "@jupyter-widgets/controls",
          "model_name": "FloatProgressModel",
          "model_module_version": "1.5.0",
          "state": {
            "_dom_classes": [],
            "_model_module": "@jupyter-widgets/controls",
            "_model_module_version": "1.5.0",
            "_model_name": "FloatProgressModel",
            "_view_count": null,
            "_view_module": "@jupyter-widgets/controls",
            "_view_module_version": "1.5.0",
            "_view_name": "ProgressView",
            "bar_style": "success",
            "description": "",
            "description_tooltip": null,
            "layout": "IPY_MODEL_d97f4f64ef8142c2b68a4ad733a81ddb",
            "max": 1565504151,
            "min": 0,
            "orientation": "horizontal",
            "style": "IPY_MODEL_3f840500c65a453b80247fee63fec6c9",
            "value": 1565504151
          }
        },
        "c618e1c987b0431c9db53108734a2a41": {
          "model_module": "@jupyter-widgets/controls",
          "model_name": "HTMLModel",
          "model_module_version": "1.5.0",
          "state": {
            "_dom_classes": [],
            "_model_module": "@jupyter-widgets/controls",
            "_model_module_version": "1.5.0",
            "_model_name": "HTMLModel",
            "_view_count": null,
            "_view_module": "@jupyter-widgets/controls",
            "_view_module_version": "1.5.0",
            "_view_name": "HTMLView",
            "description": "",
            "description_tooltip": null,
            "layout": "IPY_MODEL_a1380aba7b464fb8ab432162ad98d691",
            "placeholder": "​",
            "style": "IPY_MODEL_2c690a20f8e8422a9fe545934bd5550a",
            "value": " 1.57G/1.57G [00:41&lt;00:00, 37.3MB/s]"
          }
        },
        "4cdcfc28fad144d1914d6054c62f88c9": {
          "model_module": "@jupyter-widgets/base",
          "model_name": "LayoutModel",
          "model_module_version": "1.2.0",
          "state": {
            "_model_module": "@jupyter-widgets/base",
            "_model_module_version": "1.2.0",
            "_model_name": "LayoutModel",
            "_view_count": null,
            "_view_module": "@jupyter-widgets/base",
            "_view_module_version": "1.2.0",
            "_view_name": "LayoutView",
            "align_content": null,
            "align_items": null,
            "align_self": null,
            "border": null,
            "bottom": null,
            "display": null,
            "flex": null,
            "flex_flow": null,
            "grid_area": null,
            "grid_auto_columns": null,
            "grid_auto_flow": null,
            "grid_auto_rows": null,
            "grid_column": null,
            "grid_gap": null,
            "grid_row": null,
            "grid_template_areas": null,
            "grid_template_columns": null,
            "grid_template_rows": null,
            "height": null,
            "justify_content": null,
            "justify_items": null,
            "left": null,
            "margin": null,
            "max_height": null,
            "max_width": null,
            "min_height": null,
            "min_width": null,
            "object_fit": null,
            "object_position": null,
            "order": null,
            "overflow": null,
            "overflow_x": null,
            "overflow_y": null,
            "padding": null,
            "right": null,
            "top": null,
            "visibility": null,
            "width": null
          }
        },
        "5568eaff12964d1d888672210fcfa39c": {
          "model_module": "@jupyter-widgets/base",
          "model_name": "LayoutModel",
          "model_module_version": "1.2.0",
          "state": {
            "_model_module": "@jupyter-widgets/base",
            "_model_module_version": "1.2.0",
            "_model_name": "LayoutModel",
            "_view_count": null,
            "_view_module": "@jupyter-widgets/base",
            "_view_module_version": "1.2.0",
            "_view_name": "LayoutView",
            "align_content": null,
            "align_items": null,
            "align_self": null,
            "border": null,
            "bottom": null,
            "display": null,
            "flex": null,
            "flex_flow": null,
            "grid_area": null,
            "grid_auto_columns": null,
            "grid_auto_flow": null,
            "grid_auto_rows": null,
            "grid_column": null,
            "grid_gap": null,
            "grid_row": null,
            "grid_template_areas": null,
            "grid_template_columns": null,
            "grid_template_rows": null,
            "height": null,
            "justify_content": null,
            "justify_items": null,
            "left": null,
            "margin": null,
            "max_height": null,
            "max_width": null,
            "min_height": null,
            "min_width": null,
            "object_fit": null,
            "object_position": null,
            "order": null,
            "overflow": null,
            "overflow_x": null,
            "overflow_y": null,
            "padding": null,
            "right": null,
            "top": null,
            "visibility": null,
            "width": null
          }
        },
        "7048cec80a354b21af6388ff0dd811df": {
          "model_module": "@jupyter-widgets/controls",
          "model_name": "DescriptionStyleModel",
          "model_module_version": "1.5.0",
          "state": {
            "_model_module": "@jupyter-widgets/controls",
            "_model_module_version": "1.5.0",
            "_model_name": "DescriptionStyleModel",
            "_view_count": null,
            "_view_module": "@jupyter-widgets/base",
            "_view_module_version": "1.2.0",
            "_view_name": "StyleView",
            "description_width": ""
          }
        },
        "d97f4f64ef8142c2b68a4ad733a81ddb": {
          "model_module": "@jupyter-widgets/base",
          "model_name": "LayoutModel",
          "model_module_version": "1.2.0",
          "state": {
            "_model_module": "@jupyter-widgets/base",
            "_model_module_version": "1.2.0",
            "_model_name": "LayoutModel",
            "_view_count": null,
            "_view_module": "@jupyter-widgets/base",
            "_view_module_version": "1.2.0",
            "_view_name": "LayoutView",
            "align_content": null,
            "align_items": null,
            "align_self": null,
            "border": null,
            "bottom": null,
            "display": null,
            "flex": null,
            "flex_flow": null,
            "grid_area": null,
            "grid_auto_columns": null,
            "grid_auto_flow": null,
            "grid_auto_rows": null,
            "grid_column": null,
            "grid_gap": null,
            "grid_row": null,
            "grid_template_areas": null,
            "grid_template_columns": null,
            "grid_template_rows": null,
            "height": null,
            "justify_content": null,
            "justify_items": null,
            "left": null,
            "margin": null,
            "max_height": null,
            "max_width": null,
            "min_height": null,
            "min_width": null,
            "object_fit": null,
            "object_position": null,
            "order": null,
            "overflow": null,
            "overflow_x": null,
            "overflow_y": null,
            "padding": null,
            "right": null,
            "top": null,
            "visibility": null,
            "width": null
          }
        },
        "3f840500c65a453b80247fee63fec6c9": {
          "model_module": "@jupyter-widgets/controls",
          "model_name": "ProgressStyleModel",
          "model_module_version": "1.5.0",
          "state": {
            "_model_module": "@jupyter-widgets/controls",
            "_model_module_version": "1.5.0",
            "_model_name": "ProgressStyleModel",
            "_view_count": null,
            "_view_module": "@jupyter-widgets/base",
            "_view_module_version": "1.2.0",
            "_view_name": "StyleView",
            "bar_color": null,
            "description_width": ""
          }
        },
        "a1380aba7b464fb8ab432162ad98d691": {
          "model_module": "@jupyter-widgets/base",
          "model_name": "LayoutModel",
          "model_module_version": "1.2.0",
          "state": {
            "_model_module": "@jupyter-widgets/base",
            "_model_module_version": "1.2.0",
            "_model_name": "LayoutModel",
            "_view_count": null,
            "_view_module": "@jupyter-widgets/base",
            "_view_module_version": "1.2.0",
            "_view_name": "LayoutView",
            "align_content": null,
            "align_items": null,
            "align_self": null,
            "border": null,
            "bottom": null,
            "display": null,
            "flex": null,
            "flex_flow": null,
            "grid_area": null,
            "grid_auto_columns": null,
            "grid_auto_flow": null,
            "grid_auto_rows": null,
            "grid_column": null,
            "grid_gap": null,
            "grid_row": null,
            "grid_template_areas": null,
            "grid_template_columns": null,
            "grid_template_rows": null,
            "height": null,
            "justify_content": null,
            "justify_items": null,
            "left": null,
            "margin": null,
            "max_height": null,
            "max_width": null,
            "min_height": null,
            "min_width": null,
            "object_fit": null,
            "object_position": null,
            "order": null,
            "overflow": null,
            "overflow_x": null,
            "overflow_y": null,
            "padding": null,
            "right": null,
            "top": null,
            "visibility": null,
            "width": null
          }
        },
        "2c690a20f8e8422a9fe545934bd5550a": {
          "model_module": "@jupyter-widgets/controls",
          "model_name": "DescriptionStyleModel",
          "model_module_version": "1.5.0",
          "state": {
            "_model_module": "@jupyter-widgets/controls",
            "_model_module_version": "1.5.0",
            "_model_name": "DescriptionStyleModel",
            "_view_count": null,
            "_view_module": "@jupyter-widgets/base",
            "_view_module_version": "1.2.0",
            "_view_name": "StyleView",
            "description_width": ""
          }
        },
        "60121da606664a8d825a6921710776f1": {
          "model_module": "@jupyter-widgets/controls",
          "model_name": "HBoxModel",
          "model_module_version": "1.5.0",
          "state": {
            "_dom_classes": [],
            "_model_module": "@jupyter-widgets/controls",
            "_model_module_version": "1.5.0",
            "_model_name": "HBoxModel",
            "_view_count": null,
            "_view_module": "@jupyter-widgets/controls",
            "_view_module_version": "1.5.0",
            "_view_name": "HBoxView",
            "box_style": "",
            "children": [
              "IPY_MODEL_32e88ed8d766437385485e76b304c078",
              "IPY_MODEL_a72c62d245b14a36be34ecc6deb7b63f",
              "IPY_MODEL_55121c334d8d48a38be6720fd28bc8d9"
            ],
            "layout": "IPY_MODEL_d0ca91b4e4b64504a2287ec6e5cac1bb"
          }
        },
        "32e88ed8d766437385485e76b304c078": {
          "model_module": "@jupyter-widgets/controls",
          "model_name": "HTMLModel",
          "model_module_version": "1.5.0",
          "state": {
            "_dom_classes": [],
            "_model_module": "@jupyter-widgets/controls",
            "_model_module_version": "1.5.0",
            "_model_name": "HTMLModel",
            "_view_count": null,
            "_view_module": "@jupyter-widgets/controls",
            "_view_module_version": "1.5.0",
            "_view_name": "HTMLView",
            "description": "",
            "description_tooltip": null,
            "layout": "IPY_MODEL_855af0d9341540c996338efcec86c08d",
            "placeholder": "​",
            "style": "IPY_MODEL_7b964659e34b4354960780892be240d5",
            "value": "Downloading (…)neration_config.json: 100%"
          }
        },
        "a72c62d245b14a36be34ecc6deb7b63f": {
          "model_module": "@jupyter-widgets/controls",
          "model_name": "FloatProgressModel",
          "model_module_version": "1.5.0",
          "state": {
            "_dom_classes": [],
            "_model_module": "@jupyter-widgets/controls",
            "_model_module_version": "1.5.0",
            "_model_name": "FloatProgressModel",
            "_view_count": null,
            "_view_module": "@jupyter-widgets/controls",
            "_view_module_version": "1.5.0",
            "_view_name": "ProgressView",
            "bar_style": "success",
            "description": "",
            "description_tooltip": null,
            "layout": "IPY_MODEL_1da267ecb221423db5d6e23f47453d03",
            "max": 174,
            "min": 0,
            "orientation": "horizontal",
            "style": "IPY_MODEL_b545081ad90e49bfa4eb3f0c4e1d5a5f",
            "value": 174
          }
        },
        "55121c334d8d48a38be6720fd28bc8d9": {
          "model_module": "@jupyter-widgets/controls",
          "model_name": "HTMLModel",
          "model_module_version": "1.5.0",
          "state": {
            "_dom_classes": [],
            "_model_module": "@jupyter-widgets/controls",
            "_model_module_version": "1.5.0",
            "_model_name": "HTMLModel",
            "_view_count": null,
            "_view_module": "@jupyter-widgets/controls",
            "_view_module_version": "1.5.0",
            "_view_name": "HTMLView",
            "description": "",
            "description_tooltip": null,
            "layout": "IPY_MODEL_b38c2315a6d842ff87dc0d782c2cbae5",
            "placeholder": "​",
            "style": "IPY_MODEL_5736872551904dfab95da22edd3393b4",
            "value": " 174/174 [00:00&lt;00:00, 8.25kB/s]"
          }
        },
        "d0ca91b4e4b64504a2287ec6e5cac1bb": {
          "model_module": "@jupyter-widgets/base",
          "model_name": "LayoutModel",
          "model_module_version": "1.2.0",
          "state": {
            "_model_module": "@jupyter-widgets/base",
            "_model_module_version": "1.2.0",
            "_model_name": "LayoutModel",
            "_view_count": null,
            "_view_module": "@jupyter-widgets/base",
            "_view_module_version": "1.2.0",
            "_view_name": "LayoutView",
            "align_content": null,
            "align_items": null,
            "align_self": null,
            "border": null,
            "bottom": null,
            "display": null,
            "flex": null,
            "flex_flow": null,
            "grid_area": null,
            "grid_auto_columns": null,
            "grid_auto_flow": null,
            "grid_auto_rows": null,
            "grid_column": null,
            "grid_gap": null,
            "grid_row": null,
            "grid_template_areas": null,
            "grid_template_columns": null,
            "grid_template_rows": null,
            "height": null,
            "justify_content": null,
            "justify_items": null,
            "left": null,
            "margin": null,
            "max_height": null,
            "max_width": null,
            "min_height": null,
            "min_width": null,
            "object_fit": null,
            "object_position": null,
            "order": null,
            "overflow": null,
            "overflow_x": null,
            "overflow_y": null,
            "padding": null,
            "right": null,
            "top": null,
            "visibility": null,
            "width": null
          }
        },
        "855af0d9341540c996338efcec86c08d": {
          "model_module": "@jupyter-widgets/base",
          "model_name": "LayoutModel",
          "model_module_version": "1.2.0",
          "state": {
            "_model_module": "@jupyter-widgets/base",
            "_model_module_version": "1.2.0",
            "_model_name": "LayoutModel",
            "_view_count": null,
            "_view_module": "@jupyter-widgets/base",
            "_view_module_version": "1.2.0",
            "_view_name": "LayoutView",
            "align_content": null,
            "align_items": null,
            "align_self": null,
            "border": null,
            "bottom": null,
            "display": null,
            "flex": null,
            "flex_flow": null,
            "grid_area": null,
            "grid_auto_columns": null,
            "grid_auto_flow": null,
            "grid_auto_rows": null,
            "grid_column": null,
            "grid_gap": null,
            "grid_row": null,
            "grid_template_areas": null,
            "grid_template_columns": null,
            "grid_template_rows": null,
            "height": null,
            "justify_content": null,
            "justify_items": null,
            "left": null,
            "margin": null,
            "max_height": null,
            "max_width": null,
            "min_height": null,
            "min_width": null,
            "object_fit": null,
            "object_position": null,
            "order": null,
            "overflow": null,
            "overflow_x": null,
            "overflow_y": null,
            "padding": null,
            "right": null,
            "top": null,
            "visibility": null,
            "width": null
          }
        },
        "7b964659e34b4354960780892be240d5": {
          "model_module": "@jupyter-widgets/controls",
          "model_name": "DescriptionStyleModel",
          "model_module_version": "1.5.0",
          "state": {
            "_model_module": "@jupyter-widgets/controls",
            "_model_module_version": "1.5.0",
            "_model_name": "DescriptionStyleModel",
            "_view_count": null,
            "_view_module": "@jupyter-widgets/base",
            "_view_module_version": "1.2.0",
            "_view_name": "StyleView",
            "description_width": ""
          }
        },
        "1da267ecb221423db5d6e23f47453d03": {
          "model_module": "@jupyter-widgets/base",
          "model_name": "LayoutModel",
          "model_module_version": "1.2.0",
          "state": {
            "_model_module": "@jupyter-widgets/base",
            "_model_module_version": "1.2.0",
            "_model_name": "LayoutModel",
            "_view_count": null,
            "_view_module": "@jupyter-widgets/base",
            "_view_module_version": "1.2.0",
            "_view_name": "LayoutView",
            "align_content": null,
            "align_items": null,
            "align_self": null,
            "border": null,
            "bottom": null,
            "display": null,
            "flex": null,
            "flex_flow": null,
            "grid_area": null,
            "grid_auto_columns": null,
            "grid_auto_flow": null,
            "grid_auto_rows": null,
            "grid_column": null,
            "grid_gap": null,
            "grid_row": null,
            "grid_template_areas": null,
            "grid_template_columns": null,
            "grid_template_rows": null,
            "height": null,
            "justify_content": null,
            "justify_items": null,
            "left": null,
            "margin": null,
            "max_height": null,
            "max_width": null,
            "min_height": null,
            "min_width": null,
            "object_fit": null,
            "object_position": null,
            "order": null,
            "overflow": null,
            "overflow_x": null,
            "overflow_y": null,
            "padding": null,
            "right": null,
            "top": null,
            "visibility": null,
            "width": null
          }
        },
        "b545081ad90e49bfa4eb3f0c4e1d5a5f": {
          "model_module": "@jupyter-widgets/controls",
          "model_name": "ProgressStyleModel",
          "model_module_version": "1.5.0",
          "state": {
            "_model_module": "@jupyter-widgets/controls",
            "_model_module_version": "1.5.0",
            "_model_name": "ProgressStyleModel",
            "_view_count": null,
            "_view_module": "@jupyter-widgets/base",
            "_view_module_version": "1.2.0",
            "_view_name": "StyleView",
            "bar_color": null,
            "description_width": ""
          }
        },
        "b38c2315a6d842ff87dc0d782c2cbae5": {
          "model_module": "@jupyter-widgets/base",
          "model_name": "LayoutModel",
          "model_module_version": "1.2.0",
          "state": {
            "_model_module": "@jupyter-widgets/base",
            "_model_module_version": "1.2.0",
            "_model_name": "LayoutModel",
            "_view_count": null,
            "_view_module": "@jupyter-widgets/base",
            "_view_module_version": "1.2.0",
            "_view_name": "LayoutView",
            "align_content": null,
            "align_items": null,
            "align_self": null,
            "border": null,
            "bottom": null,
            "display": null,
            "flex": null,
            "flex_flow": null,
            "grid_area": null,
            "grid_auto_columns": null,
            "grid_auto_flow": null,
            "grid_auto_rows": null,
            "grid_column": null,
            "grid_gap": null,
            "grid_row": null,
            "grid_template_areas": null,
            "grid_template_columns": null,
            "grid_template_rows": null,
            "height": null,
            "justify_content": null,
            "justify_items": null,
            "left": null,
            "margin": null,
            "max_height": null,
            "max_width": null,
            "min_height": null,
            "min_width": null,
            "object_fit": null,
            "object_position": null,
            "order": null,
            "overflow": null,
            "overflow_x": null,
            "overflow_y": null,
            "padding": null,
            "right": null,
            "top": null,
            "visibility": null,
            "width": null
          }
        },
        "5736872551904dfab95da22edd3393b4": {
          "model_module": "@jupyter-widgets/controls",
          "model_name": "DescriptionStyleModel",
          "model_module_version": "1.5.0",
          "state": {
            "_model_module": "@jupyter-widgets/controls",
            "_model_module_version": "1.5.0",
            "_model_name": "DescriptionStyleModel",
            "_view_count": null,
            "_view_module": "@jupyter-widgets/base",
            "_view_module_version": "1.2.0",
            "_view_name": "StyleView",
            "description_width": ""
          }
        },
        "11734f896f90482ebf0a8c988ec371f7": {
          "model_module": "@jupyter-widgets/controls",
          "model_name": "HBoxModel",
          "model_module_version": "1.5.0",
          "state": {
            "_dom_classes": [],
            "_model_module": "@jupyter-widgets/controls",
            "_model_module_version": "1.5.0",
            "_model_name": "HBoxModel",
            "_view_count": null,
            "_view_module": "@jupyter-widgets/controls",
            "_view_module_version": "1.5.0",
            "_view_name": "HBoxView",
            "box_style": "",
            "children": [
              "IPY_MODEL_fff74dfb41de4a7eb2c3706b069fec2b",
              "IPY_MODEL_c8e64c1dbe2947c58f0a37f381cbe6db",
              "IPY_MODEL_e68dd61290ba40778a825663e87dda13"
            ],
            "layout": "IPY_MODEL_f89088cdddc7452f9c4fdd04bab2ae6b"
          }
        },
        "fff74dfb41de4a7eb2c3706b069fec2b": {
          "model_module": "@jupyter-widgets/controls",
          "model_name": "HTMLModel",
          "model_module_version": "1.5.0",
          "state": {
            "_dom_classes": [],
            "_model_module": "@jupyter-widgets/controls",
            "_model_module_version": "1.5.0",
            "_model_name": "HTMLModel",
            "_view_count": null,
            "_view_module": "@jupyter-widgets/controls",
            "_view_module_version": "1.5.0",
            "_view_name": "HTMLView",
            "description": "",
            "description_tooltip": null,
            "layout": "IPY_MODEL_b771b8931dd14f23acb4e4d09d457cea",
            "placeholder": "​",
            "style": "IPY_MODEL_d7f3f48a7960418393cd0d391f8a02d3",
            "value": "Downloading (…)okenizer_config.json: 100%"
          }
        },
        "c8e64c1dbe2947c58f0a37f381cbe6db": {
          "model_module": "@jupyter-widgets/controls",
          "model_name": "FloatProgressModel",
          "model_module_version": "1.5.0",
          "state": {
            "_dom_classes": [],
            "_model_module": "@jupyter-widgets/controls",
            "_model_module_version": "1.5.0",
            "_model_name": "FloatProgressModel",
            "_view_count": null,
            "_view_module": "@jupyter-widgets/controls",
            "_view_module_version": "1.5.0",
            "_view_name": "ProgressView",
            "bar_style": "success",
            "description": "",
            "description_tooltip": null,
            "layout": "IPY_MODEL_2e5de561bd8743c0890c183e75b633bc",
            "max": 256,
            "min": 0,
            "orientation": "horizontal",
            "style": "IPY_MODEL_db548b0a8468467ebe7255e02860f3c1",
            "value": 256
          }
        },
        "e68dd61290ba40778a825663e87dda13": {
          "model_module": "@jupyter-widgets/controls",
          "model_name": "HTMLModel",
          "model_module_version": "1.5.0",
          "state": {
            "_dom_classes": [],
            "_model_module": "@jupyter-widgets/controls",
            "_model_module_version": "1.5.0",
            "_model_name": "HTMLModel",
            "_view_count": null,
            "_view_module": "@jupyter-widgets/controls",
            "_view_module_version": "1.5.0",
            "_view_name": "HTMLView",
            "description": "",
            "description_tooltip": null,
            "layout": "IPY_MODEL_8665ead9073d47ac8c5a5549929093e5",
            "placeholder": "​",
            "style": "IPY_MODEL_ae5ba8da602b4a2393757ab322279513",
            "value": " 256/256 [00:00&lt;00:00, 14.9kB/s]"
          }
        },
        "f89088cdddc7452f9c4fdd04bab2ae6b": {
          "model_module": "@jupyter-widgets/base",
          "model_name": "LayoutModel",
          "model_module_version": "1.2.0",
          "state": {
            "_model_module": "@jupyter-widgets/base",
            "_model_module_version": "1.2.0",
            "_model_name": "LayoutModel",
            "_view_count": null,
            "_view_module": "@jupyter-widgets/base",
            "_view_module_version": "1.2.0",
            "_view_name": "LayoutView",
            "align_content": null,
            "align_items": null,
            "align_self": null,
            "border": null,
            "bottom": null,
            "display": null,
            "flex": null,
            "flex_flow": null,
            "grid_area": null,
            "grid_auto_columns": null,
            "grid_auto_flow": null,
            "grid_auto_rows": null,
            "grid_column": null,
            "grid_gap": null,
            "grid_row": null,
            "grid_template_areas": null,
            "grid_template_columns": null,
            "grid_template_rows": null,
            "height": null,
            "justify_content": null,
            "justify_items": null,
            "left": null,
            "margin": null,
            "max_height": null,
            "max_width": null,
            "min_height": null,
            "min_width": null,
            "object_fit": null,
            "object_position": null,
            "order": null,
            "overflow": null,
            "overflow_x": null,
            "overflow_y": null,
            "padding": null,
            "right": null,
            "top": null,
            "visibility": null,
            "width": null
          }
        },
        "b771b8931dd14f23acb4e4d09d457cea": {
          "model_module": "@jupyter-widgets/base",
          "model_name": "LayoutModel",
          "model_module_version": "1.2.0",
          "state": {
            "_model_module": "@jupyter-widgets/base",
            "_model_module_version": "1.2.0",
            "_model_name": "LayoutModel",
            "_view_count": null,
            "_view_module": "@jupyter-widgets/base",
            "_view_module_version": "1.2.0",
            "_view_name": "LayoutView",
            "align_content": null,
            "align_items": null,
            "align_self": null,
            "border": null,
            "bottom": null,
            "display": null,
            "flex": null,
            "flex_flow": null,
            "grid_area": null,
            "grid_auto_columns": null,
            "grid_auto_flow": null,
            "grid_auto_rows": null,
            "grid_column": null,
            "grid_gap": null,
            "grid_row": null,
            "grid_template_areas": null,
            "grid_template_columns": null,
            "grid_template_rows": null,
            "height": null,
            "justify_content": null,
            "justify_items": null,
            "left": null,
            "margin": null,
            "max_height": null,
            "max_width": null,
            "min_height": null,
            "min_width": null,
            "object_fit": null,
            "object_position": null,
            "order": null,
            "overflow": null,
            "overflow_x": null,
            "overflow_y": null,
            "padding": null,
            "right": null,
            "top": null,
            "visibility": null,
            "width": null
          }
        },
        "d7f3f48a7960418393cd0d391f8a02d3": {
          "model_module": "@jupyter-widgets/controls",
          "model_name": "DescriptionStyleModel",
          "model_module_version": "1.5.0",
          "state": {
            "_model_module": "@jupyter-widgets/controls",
            "_model_module_version": "1.5.0",
            "_model_name": "DescriptionStyleModel",
            "_view_count": null,
            "_view_module": "@jupyter-widgets/base",
            "_view_module_version": "1.2.0",
            "_view_name": "StyleView",
            "description_width": ""
          }
        },
        "2e5de561bd8743c0890c183e75b633bc": {
          "model_module": "@jupyter-widgets/base",
          "model_name": "LayoutModel",
          "model_module_version": "1.2.0",
          "state": {
            "_model_module": "@jupyter-widgets/base",
            "_model_module_version": "1.2.0",
            "_model_name": "LayoutModel",
            "_view_count": null,
            "_view_module": "@jupyter-widgets/base",
            "_view_module_version": "1.2.0",
            "_view_name": "LayoutView",
            "align_content": null,
            "align_items": null,
            "align_self": null,
            "border": null,
            "bottom": null,
            "display": null,
            "flex": null,
            "flex_flow": null,
            "grid_area": null,
            "grid_auto_columns": null,
            "grid_auto_flow": null,
            "grid_auto_rows": null,
            "grid_column": null,
            "grid_gap": null,
            "grid_row": null,
            "grid_template_areas": null,
            "grid_template_columns": null,
            "grid_template_rows": null,
            "height": null,
            "justify_content": null,
            "justify_items": null,
            "left": null,
            "margin": null,
            "max_height": null,
            "max_width": null,
            "min_height": null,
            "min_width": null,
            "object_fit": null,
            "object_position": null,
            "order": null,
            "overflow": null,
            "overflow_x": null,
            "overflow_y": null,
            "padding": null,
            "right": null,
            "top": null,
            "visibility": null,
            "width": null
          }
        },
        "db548b0a8468467ebe7255e02860f3c1": {
          "model_module": "@jupyter-widgets/controls",
          "model_name": "ProgressStyleModel",
          "model_module_version": "1.5.0",
          "state": {
            "_model_module": "@jupyter-widgets/controls",
            "_model_module_version": "1.5.0",
            "_model_name": "ProgressStyleModel",
            "_view_count": null,
            "_view_module": "@jupyter-widgets/base",
            "_view_module_version": "1.2.0",
            "_view_name": "StyleView",
            "bar_color": null,
            "description_width": ""
          }
        },
        "8665ead9073d47ac8c5a5549929093e5": {
          "model_module": "@jupyter-widgets/base",
          "model_name": "LayoutModel",
          "model_module_version": "1.2.0",
          "state": {
            "_model_module": "@jupyter-widgets/base",
            "_model_module_version": "1.2.0",
            "_model_name": "LayoutModel",
            "_view_count": null,
            "_view_module": "@jupyter-widgets/base",
            "_view_module_version": "1.2.0",
            "_view_name": "LayoutView",
            "align_content": null,
            "align_items": null,
            "align_self": null,
            "border": null,
            "bottom": null,
            "display": null,
            "flex": null,
            "flex_flow": null,
            "grid_area": null,
            "grid_auto_columns": null,
            "grid_auto_flow": null,
            "grid_auto_rows": null,
            "grid_column": null,
            "grid_gap": null,
            "grid_row": null,
            "grid_template_areas": null,
            "grid_template_columns": null,
            "grid_template_rows": null,
            "height": null,
            "justify_content": null,
            "justify_items": null,
            "left": null,
            "margin": null,
            "max_height": null,
            "max_width": null,
            "min_height": null,
            "min_width": null,
            "object_fit": null,
            "object_position": null,
            "order": null,
            "overflow": null,
            "overflow_x": null,
            "overflow_y": null,
            "padding": null,
            "right": null,
            "top": null,
            "visibility": null,
            "width": null
          }
        },
        "ae5ba8da602b4a2393757ab322279513": {
          "model_module": "@jupyter-widgets/controls",
          "model_name": "DescriptionStyleModel",
          "model_module_version": "1.5.0",
          "state": {
            "_model_module": "@jupyter-widgets/controls",
            "_model_module_version": "1.5.0",
            "_model_name": "DescriptionStyleModel",
            "_view_count": null,
            "_view_module": "@jupyter-widgets/base",
            "_view_module_version": "1.2.0",
            "_view_name": "StyleView",
            "description_width": ""
          }
        },
        "e27916b965324847a892bc1ca598d3c7": {
          "model_module": "@jupyter-widgets/controls",
          "model_name": "HBoxModel",
          "model_module_version": "1.5.0",
          "state": {
            "_dom_classes": [],
            "_model_module": "@jupyter-widgets/controls",
            "_model_module_version": "1.5.0",
            "_model_name": "HBoxModel",
            "_view_count": null,
            "_view_module": "@jupyter-widgets/controls",
            "_view_module_version": "1.5.0",
            "_view_name": "HBoxView",
            "box_style": "",
            "children": [
              "IPY_MODEL_d8a696be6b484a73a80369afb94f0d4e",
              "IPY_MODEL_aa209d5096934cbb899fc7d6675dabdc",
              "IPY_MODEL_1272aefee3344be2b658a4693727e241"
            ],
            "layout": "IPY_MODEL_f72c21fda57f4559a35f807312fd6be2"
          }
        },
        "d8a696be6b484a73a80369afb94f0d4e": {
          "model_module": "@jupyter-widgets/controls",
          "model_name": "HTMLModel",
          "model_module_version": "1.5.0",
          "state": {
            "_dom_classes": [],
            "_model_module": "@jupyter-widgets/controls",
            "_model_module_version": "1.5.0",
            "_model_name": "HTMLModel",
            "_view_count": null,
            "_view_module": "@jupyter-widgets/controls",
            "_view_module_version": "1.5.0",
            "_view_name": "HTMLView",
            "description": "",
            "description_tooltip": null,
            "layout": "IPY_MODEL_f8e5c10ef9ca4d9dbfd8b791e4395207",
            "placeholder": "​",
            "style": "IPY_MODEL_b71527b817f84b6d861008eb6845bfe1",
            "value": "Downloading (…)prophetnet.tokenizer: "
          }
        },
        "aa209d5096934cbb899fc7d6675dabdc": {
          "model_module": "@jupyter-widgets/controls",
          "model_name": "FloatProgressModel",
          "model_module_version": "1.5.0",
          "state": {
            "_dom_classes": [],
            "_model_module": "@jupyter-widgets/controls",
            "_model_module_version": "1.5.0",
            "_model_name": "FloatProgressModel",
            "_view_count": null,
            "_view_module": "@jupyter-widgets/controls",
            "_view_module_version": "1.5.0",
            "_view_name": "ProgressView",
            "bar_style": "success",
            "description": "",
            "description_tooltip": null,
            "layout": "IPY_MODEL_cb797e2d677f4fe9a8b65b8de5ec96e4",
            "max": 1,
            "min": 0,
            "orientation": "horizontal",
            "style": "IPY_MODEL_1769f94336c04923ba57142bfb3d3a41",
            "value": 1
          }
        },
        "1272aefee3344be2b658a4693727e241": {
          "model_module": "@jupyter-widgets/controls",
          "model_name": "HTMLModel",
          "model_module_version": "1.5.0",
          "state": {
            "_dom_classes": [],
            "_model_module": "@jupyter-widgets/controls",
            "_model_module_version": "1.5.0",
            "_model_name": "HTMLModel",
            "_view_count": null,
            "_view_module": "@jupyter-widgets/controls",
            "_view_module_version": "1.5.0",
            "_view_name": "HTMLView",
            "description": "",
            "description_tooltip": null,
            "layout": "IPY_MODEL_3d5b800911e54837bb5d1f4618c66f37",
            "placeholder": "​",
            "style": "IPY_MODEL_7f6c48f40efb44a6b56017e434d6d9ba",
            "value": " 232k/? [00:00&lt;00:00, 9.90MB/s]"
          }
        },
        "f72c21fda57f4559a35f807312fd6be2": {
          "model_module": "@jupyter-widgets/base",
          "model_name": "LayoutModel",
          "model_module_version": "1.2.0",
          "state": {
            "_model_module": "@jupyter-widgets/base",
            "_model_module_version": "1.2.0",
            "_model_name": "LayoutModel",
            "_view_count": null,
            "_view_module": "@jupyter-widgets/base",
            "_view_module_version": "1.2.0",
            "_view_name": "LayoutView",
            "align_content": null,
            "align_items": null,
            "align_self": null,
            "border": null,
            "bottom": null,
            "display": null,
            "flex": null,
            "flex_flow": null,
            "grid_area": null,
            "grid_auto_columns": null,
            "grid_auto_flow": null,
            "grid_auto_rows": null,
            "grid_column": null,
            "grid_gap": null,
            "grid_row": null,
            "grid_template_areas": null,
            "grid_template_columns": null,
            "grid_template_rows": null,
            "height": null,
            "justify_content": null,
            "justify_items": null,
            "left": null,
            "margin": null,
            "max_height": null,
            "max_width": null,
            "min_height": null,
            "min_width": null,
            "object_fit": null,
            "object_position": null,
            "order": null,
            "overflow": null,
            "overflow_x": null,
            "overflow_y": null,
            "padding": null,
            "right": null,
            "top": null,
            "visibility": null,
            "width": null
          }
        },
        "f8e5c10ef9ca4d9dbfd8b791e4395207": {
          "model_module": "@jupyter-widgets/base",
          "model_name": "LayoutModel",
          "model_module_version": "1.2.0",
          "state": {
            "_model_module": "@jupyter-widgets/base",
            "_model_module_version": "1.2.0",
            "_model_name": "LayoutModel",
            "_view_count": null,
            "_view_module": "@jupyter-widgets/base",
            "_view_module_version": "1.2.0",
            "_view_name": "LayoutView",
            "align_content": null,
            "align_items": null,
            "align_self": null,
            "border": null,
            "bottom": null,
            "display": null,
            "flex": null,
            "flex_flow": null,
            "grid_area": null,
            "grid_auto_columns": null,
            "grid_auto_flow": null,
            "grid_auto_rows": null,
            "grid_column": null,
            "grid_gap": null,
            "grid_row": null,
            "grid_template_areas": null,
            "grid_template_columns": null,
            "grid_template_rows": null,
            "height": null,
            "justify_content": null,
            "justify_items": null,
            "left": null,
            "margin": null,
            "max_height": null,
            "max_width": null,
            "min_height": null,
            "min_width": null,
            "object_fit": null,
            "object_position": null,
            "order": null,
            "overflow": null,
            "overflow_x": null,
            "overflow_y": null,
            "padding": null,
            "right": null,
            "top": null,
            "visibility": null,
            "width": null
          }
        },
        "b71527b817f84b6d861008eb6845bfe1": {
          "model_module": "@jupyter-widgets/controls",
          "model_name": "DescriptionStyleModel",
          "model_module_version": "1.5.0",
          "state": {
            "_model_module": "@jupyter-widgets/controls",
            "_model_module_version": "1.5.0",
            "_model_name": "DescriptionStyleModel",
            "_view_count": null,
            "_view_module": "@jupyter-widgets/base",
            "_view_module_version": "1.2.0",
            "_view_name": "StyleView",
            "description_width": ""
          }
        },
        "cb797e2d677f4fe9a8b65b8de5ec96e4": {
          "model_module": "@jupyter-widgets/base",
          "model_name": "LayoutModel",
          "model_module_version": "1.2.0",
          "state": {
            "_model_module": "@jupyter-widgets/base",
            "_model_module_version": "1.2.0",
            "_model_name": "LayoutModel",
            "_view_count": null,
            "_view_module": "@jupyter-widgets/base",
            "_view_module_version": "1.2.0",
            "_view_name": "LayoutView",
            "align_content": null,
            "align_items": null,
            "align_self": null,
            "border": null,
            "bottom": null,
            "display": null,
            "flex": null,
            "flex_flow": null,
            "grid_area": null,
            "grid_auto_columns": null,
            "grid_auto_flow": null,
            "grid_auto_rows": null,
            "grid_column": null,
            "grid_gap": null,
            "grid_row": null,
            "grid_template_areas": null,
            "grid_template_columns": null,
            "grid_template_rows": null,
            "height": null,
            "justify_content": null,
            "justify_items": null,
            "left": null,
            "margin": null,
            "max_height": null,
            "max_width": null,
            "min_height": null,
            "min_width": null,
            "object_fit": null,
            "object_position": null,
            "order": null,
            "overflow": null,
            "overflow_x": null,
            "overflow_y": null,
            "padding": null,
            "right": null,
            "top": null,
            "visibility": null,
            "width": "20px"
          }
        },
        "1769f94336c04923ba57142bfb3d3a41": {
          "model_module": "@jupyter-widgets/controls",
          "model_name": "ProgressStyleModel",
          "model_module_version": "1.5.0",
          "state": {
            "_model_module": "@jupyter-widgets/controls",
            "_model_module_version": "1.5.0",
            "_model_name": "ProgressStyleModel",
            "_view_count": null,
            "_view_module": "@jupyter-widgets/base",
            "_view_module_version": "1.2.0",
            "_view_name": "StyleView",
            "bar_color": null,
            "description_width": ""
          }
        },
        "3d5b800911e54837bb5d1f4618c66f37": {
          "model_module": "@jupyter-widgets/base",
          "model_name": "LayoutModel",
          "model_module_version": "1.2.0",
          "state": {
            "_model_module": "@jupyter-widgets/base",
            "_model_module_version": "1.2.0",
            "_model_name": "LayoutModel",
            "_view_count": null,
            "_view_module": "@jupyter-widgets/base",
            "_view_module_version": "1.2.0",
            "_view_name": "LayoutView",
            "align_content": null,
            "align_items": null,
            "align_self": null,
            "border": null,
            "bottom": null,
            "display": null,
            "flex": null,
            "flex_flow": null,
            "grid_area": null,
            "grid_auto_columns": null,
            "grid_auto_flow": null,
            "grid_auto_rows": null,
            "grid_column": null,
            "grid_gap": null,
            "grid_row": null,
            "grid_template_areas": null,
            "grid_template_columns": null,
            "grid_template_rows": null,
            "height": null,
            "justify_content": null,
            "justify_items": null,
            "left": null,
            "margin": null,
            "max_height": null,
            "max_width": null,
            "min_height": null,
            "min_width": null,
            "object_fit": null,
            "object_position": null,
            "order": null,
            "overflow": null,
            "overflow_x": null,
            "overflow_y": null,
            "padding": null,
            "right": null,
            "top": null,
            "visibility": null,
            "width": null
          }
        },
        "7f6c48f40efb44a6b56017e434d6d9ba": {
          "model_module": "@jupyter-widgets/controls",
          "model_name": "DescriptionStyleModel",
          "model_module_version": "1.5.0",
          "state": {
            "_model_module": "@jupyter-widgets/controls",
            "_model_module_version": "1.5.0",
            "_model_name": "DescriptionStyleModel",
            "_view_count": null,
            "_view_module": "@jupyter-widgets/base",
            "_view_module_version": "1.2.0",
            "_view_name": "StyleView",
            "description_width": ""
          }
        },
        "6081dbba887844679fe4897e290e6b24": {
          "model_module": "@jupyter-widgets/controls",
          "model_name": "HBoxModel",
          "model_module_version": "1.5.0",
          "state": {
            "_dom_classes": [],
            "_model_module": "@jupyter-widgets/controls",
            "_model_module_version": "1.5.0",
            "_model_name": "HBoxModel",
            "_view_count": null,
            "_view_module": "@jupyter-widgets/controls",
            "_view_module_version": "1.5.0",
            "_view_name": "HBoxView",
            "box_style": "",
            "children": [
              "IPY_MODEL_82e882ebdc5b47dabe4e153b2332024e",
              "IPY_MODEL_70e457d22de04132a625916536942365",
              "IPY_MODEL_a9ca1a6ff379415e8515a8a00bb971f6"
            ],
            "layout": "IPY_MODEL_cc21aa8500484cdda65a5b9e349fec58"
          }
        },
        "82e882ebdc5b47dabe4e153b2332024e": {
          "model_module": "@jupyter-widgets/controls",
          "model_name": "HTMLModel",
          "model_module_version": "1.5.0",
          "state": {
            "_dom_classes": [],
            "_model_module": "@jupyter-widgets/controls",
            "_model_module_version": "1.5.0",
            "_model_name": "HTMLModel",
            "_view_count": null,
            "_view_module": "@jupyter-widgets/controls",
            "_view_module_version": "1.5.0",
            "_view_name": "HTMLView",
            "description": "",
            "description_tooltip": null,
            "layout": "IPY_MODEL_0aa99d9033224dbba93887aa3800241d",
            "placeholder": "​",
            "style": "IPY_MODEL_108d644caa0c4c00a9ce141ad5c70596",
            "value": "Downloading (…)cial_tokens_map.json: 100%"
          }
        },
        "70e457d22de04132a625916536942365": {
          "model_module": "@jupyter-widgets/controls",
          "model_name": "FloatProgressModel",
          "model_module_version": "1.5.0",
          "state": {
            "_dom_classes": [],
            "_model_module": "@jupyter-widgets/controls",
            "_model_module_version": "1.5.0",
            "_model_name": "FloatProgressModel",
            "_view_count": null,
            "_view_module": "@jupyter-widgets/controls",
            "_view_module_version": "1.5.0",
            "_view_name": "ProgressView",
            "bar_style": "success",
            "description": "",
            "description_tooltip": null,
            "layout": "IPY_MODEL_24dfeb92e2c7467f85f0cb36d23bc435",
            "max": 112,
            "min": 0,
            "orientation": "horizontal",
            "style": "IPY_MODEL_ae9ccb66d0a741b3bc3ae03ba49b24d7",
            "value": 112
          }
        },
        "a9ca1a6ff379415e8515a8a00bb971f6": {
          "model_module": "@jupyter-widgets/controls",
          "model_name": "HTMLModel",
          "model_module_version": "1.5.0",
          "state": {
            "_dom_classes": [],
            "_model_module": "@jupyter-widgets/controls",
            "_model_module_version": "1.5.0",
            "_model_name": "HTMLModel",
            "_view_count": null,
            "_view_module": "@jupyter-widgets/controls",
            "_view_module_version": "1.5.0",
            "_view_name": "HTMLView",
            "description": "",
            "description_tooltip": null,
            "layout": "IPY_MODEL_2f2f10cd544642308e54e6bcdb9cddc6",
            "placeholder": "​",
            "style": "IPY_MODEL_6b5e76903552411e9bb03c17c8eddad9",
            "value": " 112/112 [00:00&lt;00:00, 5.24kB/s]"
          }
        },
        "cc21aa8500484cdda65a5b9e349fec58": {
          "model_module": "@jupyter-widgets/base",
          "model_name": "LayoutModel",
          "model_module_version": "1.2.0",
          "state": {
            "_model_module": "@jupyter-widgets/base",
            "_model_module_version": "1.2.0",
            "_model_name": "LayoutModel",
            "_view_count": null,
            "_view_module": "@jupyter-widgets/base",
            "_view_module_version": "1.2.0",
            "_view_name": "LayoutView",
            "align_content": null,
            "align_items": null,
            "align_self": null,
            "border": null,
            "bottom": null,
            "display": null,
            "flex": null,
            "flex_flow": null,
            "grid_area": null,
            "grid_auto_columns": null,
            "grid_auto_flow": null,
            "grid_auto_rows": null,
            "grid_column": null,
            "grid_gap": null,
            "grid_row": null,
            "grid_template_areas": null,
            "grid_template_columns": null,
            "grid_template_rows": null,
            "height": null,
            "justify_content": null,
            "justify_items": null,
            "left": null,
            "margin": null,
            "max_height": null,
            "max_width": null,
            "min_height": null,
            "min_width": null,
            "object_fit": null,
            "object_position": null,
            "order": null,
            "overflow": null,
            "overflow_x": null,
            "overflow_y": null,
            "padding": null,
            "right": null,
            "top": null,
            "visibility": null,
            "width": null
          }
        },
        "0aa99d9033224dbba93887aa3800241d": {
          "model_module": "@jupyter-widgets/base",
          "model_name": "LayoutModel",
          "model_module_version": "1.2.0",
          "state": {
            "_model_module": "@jupyter-widgets/base",
            "_model_module_version": "1.2.0",
            "_model_name": "LayoutModel",
            "_view_count": null,
            "_view_module": "@jupyter-widgets/base",
            "_view_module_version": "1.2.0",
            "_view_name": "LayoutView",
            "align_content": null,
            "align_items": null,
            "align_self": null,
            "border": null,
            "bottom": null,
            "display": null,
            "flex": null,
            "flex_flow": null,
            "grid_area": null,
            "grid_auto_columns": null,
            "grid_auto_flow": null,
            "grid_auto_rows": null,
            "grid_column": null,
            "grid_gap": null,
            "grid_row": null,
            "grid_template_areas": null,
            "grid_template_columns": null,
            "grid_template_rows": null,
            "height": null,
            "justify_content": null,
            "justify_items": null,
            "left": null,
            "margin": null,
            "max_height": null,
            "max_width": null,
            "min_height": null,
            "min_width": null,
            "object_fit": null,
            "object_position": null,
            "order": null,
            "overflow": null,
            "overflow_x": null,
            "overflow_y": null,
            "padding": null,
            "right": null,
            "top": null,
            "visibility": null,
            "width": null
          }
        },
        "108d644caa0c4c00a9ce141ad5c70596": {
          "model_module": "@jupyter-widgets/controls",
          "model_name": "DescriptionStyleModel",
          "model_module_version": "1.5.0",
          "state": {
            "_model_module": "@jupyter-widgets/controls",
            "_model_module_version": "1.5.0",
            "_model_name": "DescriptionStyleModel",
            "_view_count": null,
            "_view_module": "@jupyter-widgets/base",
            "_view_module_version": "1.2.0",
            "_view_name": "StyleView",
            "description_width": ""
          }
        },
        "24dfeb92e2c7467f85f0cb36d23bc435": {
          "model_module": "@jupyter-widgets/base",
          "model_name": "LayoutModel",
          "model_module_version": "1.2.0",
          "state": {
            "_model_module": "@jupyter-widgets/base",
            "_model_module_version": "1.2.0",
            "_model_name": "LayoutModel",
            "_view_count": null,
            "_view_module": "@jupyter-widgets/base",
            "_view_module_version": "1.2.0",
            "_view_name": "LayoutView",
            "align_content": null,
            "align_items": null,
            "align_self": null,
            "border": null,
            "bottom": null,
            "display": null,
            "flex": null,
            "flex_flow": null,
            "grid_area": null,
            "grid_auto_columns": null,
            "grid_auto_flow": null,
            "grid_auto_rows": null,
            "grid_column": null,
            "grid_gap": null,
            "grid_row": null,
            "grid_template_areas": null,
            "grid_template_columns": null,
            "grid_template_rows": null,
            "height": null,
            "justify_content": null,
            "justify_items": null,
            "left": null,
            "margin": null,
            "max_height": null,
            "max_width": null,
            "min_height": null,
            "min_width": null,
            "object_fit": null,
            "object_position": null,
            "order": null,
            "overflow": null,
            "overflow_x": null,
            "overflow_y": null,
            "padding": null,
            "right": null,
            "top": null,
            "visibility": null,
            "width": null
          }
        },
        "ae9ccb66d0a741b3bc3ae03ba49b24d7": {
          "model_module": "@jupyter-widgets/controls",
          "model_name": "ProgressStyleModel",
          "model_module_version": "1.5.0",
          "state": {
            "_model_module": "@jupyter-widgets/controls",
            "_model_module_version": "1.5.0",
            "_model_name": "ProgressStyleModel",
            "_view_count": null,
            "_view_module": "@jupyter-widgets/base",
            "_view_module_version": "1.2.0",
            "_view_name": "StyleView",
            "bar_color": null,
            "description_width": ""
          }
        },
        "2f2f10cd544642308e54e6bcdb9cddc6": {
          "model_module": "@jupyter-widgets/base",
          "model_name": "LayoutModel",
          "model_module_version": "1.2.0",
          "state": {
            "_model_module": "@jupyter-widgets/base",
            "_model_module_version": "1.2.0",
            "_model_name": "LayoutModel",
            "_view_count": null,
            "_view_module": "@jupyter-widgets/base",
            "_view_module_version": "1.2.0",
            "_view_name": "LayoutView",
            "align_content": null,
            "align_items": null,
            "align_self": null,
            "border": null,
            "bottom": null,
            "display": null,
            "flex": null,
            "flex_flow": null,
            "grid_area": null,
            "grid_auto_columns": null,
            "grid_auto_flow": null,
            "grid_auto_rows": null,
            "grid_column": null,
            "grid_gap": null,
            "grid_row": null,
            "grid_template_areas": null,
            "grid_template_columns": null,
            "grid_template_rows": null,
            "height": null,
            "justify_content": null,
            "justify_items": null,
            "left": null,
            "margin": null,
            "max_height": null,
            "max_width": null,
            "min_height": null,
            "min_width": null,
            "object_fit": null,
            "object_position": null,
            "order": null,
            "overflow": null,
            "overflow_x": null,
            "overflow_y": null,
            "padding": null,
            "right": null,
            "top": null,
            "visibility": null,
            "width": null
          }
        },
        "6b5e76903552411e9bb03c17c8eddad9": {
          "model_module": "@jupyter-widgets/controls",
          "model_name": "DescriptionStyleModel",
          "model_module_version": "1.5.0",
          "state": {
            "_model_module": "@jupyter-widgets/controls",
            "_model_module_version": "1.5.0",
            "_model_name": "DescriptionStyleModel",
            "_view_count": null,
            "_view_module": "@jupyter-widgets/base",
            "_view_module_version": "1.2.0",
            "_view_name": "StyleView",
            "description_width": ""
          }
        },
        "edbf66e715a54fb2b57c87d4fcf27396": {
          "model_module": "@jupyter-widgets/controls",
          "model_name": "HBoxModel",
          "model_module_version": "1.5.0",
          "state": {
            "_dom_classes": [],
            "_model_module": "@jupyter-widgets/controls",
            "_model_module_version": "1.5.0",
            "_model_name": "HBoxModel",
            "_view_count": null,
            "_view_module": "@jupyter-widgets/controls",
            "_view_module_version": "1.5.0",
            "_view_name": "HBoxView",
            "box_style": "",
            "children": [
              "IPY_MODEL_26b8dcd55cf7404ea5cb659271f750b0",
              "IPY_MODEL_d34eb7fcb5d444788d261572d4bee8eb",
              "IPY_MODEL_701dd79d0b8944478caa836536887825"
            ],
            "layout": "IPY_MODEL_3472972b6bbb42a2b694f2c170488128"
          }
        },
        "26b8dcd55cf7404ea5cb659271f750b0": {
          "model_module": "@jupyter-widgets/controls",
          "model_name": "HTMLModel",
          "model_module_version": "1.5.0",
          "state": {
            "_dom_classes": [],
            "_model_module": "@jupyter-widgets/controls",
            "_model_module_version": "1.5.0",
            "_model_name": "HTMLModel",
            "_view_count": null,
            "_view_module": "@jupyter-widgets/controls",
            "_view_module_version": "1.5.0",
            "_view_name": "HTMLView",
            "description": "",
            "description_tooltip": null,
            "layout": "IPY_MODEL_6f019581249049b59fe066cb0ae2f1fa",
            "placeholder": "​",
            "style": "IPY_MODEL_d497e35f3ca549c9a4a09d7ee0981672",
            "value": "Downloading (…)lve/main/config.json: "
          }
        },
        "d34eb7fcb5d444788d261572d4bee8eb": {
          "model_module": "@jupyter-widgets/controls",
          "model_name": "FloatProgressModel",
          "model_module_version": "1.5.0",
          "state": {
            "_dom_classes": [],
            "_model_module": "@jupyter-widgets/controls",
            "_model_module_version": "1.5.0",
            "_model_name": "FloatProgressModel",
            "_view_count": null,
            "_view_module": "@jupyter-widgets/controls",
            "_view_module_version": "1.5.0",
            "_view_name": "ProgressView",
            "bar_style": "success",
            "description": "",
            "description_tooltip": null,
            "layout": "IPY_MODEL_049463ca347a4539a1dcaed46cf823c1",
            "max": 1,
            "min": 0,
            "orientation": "horizontal",
            "style": "IPY_MODEL_1150b2ba2a60423caf4cf3905fb4619d",
            "value": 1
          }
        },
        "701dd79d0b8944478caa836536887825": {
          "model_module": "@jupyter-widgets/controls",
          "model_name": "HTMLModel",
          "model_module_version": "1.5.0",
          "state": {
            "_dom_classes": [],
            "_model_module": "@jupyter-widgets/controls",
            "_model_module_version": "1.5.0",
            "_model_name": "HTMLModel",
            "_view_count": null,
            "_view_module": "@jupyter-widgets/controls",
            "_view_module_version": "1.5.0",
            "_view_name": "HTMLView",
            "description": "",
            "description_tooltip": null,
            "layout": "IPY_MODEL_c1041a0555dc463e82771e747bfab67b",
            "placeholder": "​",
            "style": "IPY_MODEL_e946e3d917bb4bcbbfeaeb1367cc16d7",
            "value": " 1.21k/? [00:00&lt;00:00, 45.8kB/s]"
          }
        },
        "3472972b6bbb42a2b694f2c170488128": {
          "model_module": "@jupyter-widgets/base",
          "model_name": "LayoutModel",
          "model_module_version": "1.2.0",
          "state": {
            "_model_module": "@jupyter-widgets/base",
            "_model_module_version": "1.2.0",
            "_model_name": "LayoutModel",
            "_view_count": null,
            "_view_module": "@jupyter-widgets/base",
            "_view_module_version": "1.2.0",
            "_view_name": "LayoutView",
            "align_content": null,
            "align_items": null,
            "align_self": null,
            "border": null,
            "bottom": null,
            "display": null,
            "flex": null,
            "flex_flow": null,
            "grid_area": null,
            "grid_auto_columns": null,
            "grid_auto_flow": null,
            "grid_auto_rows": null,
            "grid_column": null,
            "grid_gap": null,
            "grid_row": null,
            "grid_template_areas": null,
            "grid_template_columns": null,
            "grid_template_rows": null,
            "height": null,
            "justify_content": null,
            "justify_items": null,
            "left": null,
            "margin": null,
            "max_height": null,
            "max_width": null,
            "min_height": null,
            "min_width": null,
            "object_fit": null,
            "object_position": null,
            "order": null,
            "overflow": null,
            "overflow_x": null,
            "overflow_y": null,
            "padding": null,
            "right": null,
            "top": null,
            "visibility": null,
            "width": null
          }
        },
        "6f019581249049b59fe066cb0ae2f1fa": {
          "model_module": "@jupyter-widgets/base",
          "model_name": "LayoutModel",
          "model_module_version": "1.2.0",
          "state": {
            "_model_module": "@jupyter-widgets/base",
            "_model_module_version": "1.2.0",
            "_model_name": "LayoutModel",
            "_view_count": null,
            "_view_module": "@jupyter-widgets/base",
            "_view_module_version": "1.2.0",
            "_view_name": "LayoutView",
            "align_content": null,
            "align_items": null,
            "align_self": null,
            "border": null,
            "bottom": null,
            "display": null,
            "flex": null,
            "flex_flow": null,
            "grid_area": null,
            "grid_auto_columns": null,
            "grid_auto_flow": null,
            "grid_auto_rows": null,
            "grid_column": null,
            "grid_gap": null,
            "grid_row": null,
            "grid_template_areas": null,
            "grid_template_columns": null,
            "grid_template_rows": null,
            "height": null,
            "justify_content": null,
            "justify_items": null,
            "left": null,
            "margin": null,
            "max_height": null,
            "max_width": null,
            "min_height": null,
            "min_width": null,
            "object_fit": null,
            "object_position": null,
            "order": null,
            "overflow": null,
            "overflow_x": null,
            "overflow_y": null,
            "padding": null,
            "right": null,
            "top": null,
            "visibility": null,
            "width": null
          }
        },
        "d497e35f3ca549c9a4a09d7ee0981672": {
          "model_module": "@jupyter-widgets/controls",
          "model_name": "DescriptionStyleModel",
          "model_module_version": "1.5.0",
          "state": {
            "_model_module": "@jupyter-widgets/controls",
            "_model_module_version": "1.5.0",
            "_model_name": "DescriptionStyleModel",
            "_view_count": null,
            "_view_module": "@jupyter-widgets/base",
            "_view_module_version": "1.2.0",
            "_view_name": "StyleView",
            "description_width": ""
          }
        },
        "049463ca347a4539a1dcaed46cf823c1": {
          "model_module": "@jupyter-widgets/base",
          "model_name": "LayoutModel",
          "model_module_version": "1.2.0",
          "state": {
            "_model_module": "@jupyter-widgets/base",
            "_model_module_version": "1.2.0",
            "_model_name": "LayoutModel",
            "_view_count": null,
            "_view_module": "@jupyter-widgets/base",
            "_view_module_version": "1.2.0",
            "_view_name": "LayoutView",
            "align_content": null,
            "align_items": null,
            "align_self": null,
            "border": null,
            "bottom": null,
            "display": null,
            "flex": null,
            "flex_flow": null,
            "grid_area": null,
            "grid_auto_columns": null,
            "grid_auto_flow": null,
            "grid_auto_rows": null,
            "grid_column": null,
            "grid_gap": null,
            "grid_row": null,
            "grid_template_areas": null,
            "grid_template_columns": null,
            "grid_template_rows": null,
            "height": null,
            "justify_content": null,
            "justify_items": null,
            "left": null,
            "margin": null,
            "max_height": null,
            "max_width": null,
            "min_height": null,
            "min_width": null,
            "object_fit": null,
            "object_position": null,
            "order": null,
            "overflow": null,
            "overflow_x": null,
            "overflow_y": null,
            "padding": null,
            "right": null,
            "top": null,
            "visibility": null,
            "width": "20px"
          }
        },
        "1150b2ba2a60423caf4cf3905fb4619d": {
          "model_module": "@jupyter-widgets/controls",
          "model_name": "ProgressStyleModel",
          "model_module_version": "1.5.0",
          "state": {
            "_model_module": "@jupyter-widgets/controls",
            "_model_module_version": "1.5.0",
            "_model_name": "ProgressStyleModel",
            "_view_count": null,
            "_view_module": "@jupyter-widgets/base",
            "_view_module_version": "1.2.0",
            "_view_name": "StyleView",
            "bar_color": null,
            "description_width": ""
          }
        },
        "c1041a0555dc463e82771e747bfab67b": {
          "model_module": "@jupyter-widgets/base",
          "model_name": "LayoutModel",
          "model_module_version": "1.2.0",
          "state": {
            "_model_module": "@jupyter-widgets/base",
            "_model_module_version": "1.2.0",
            "_model_name": "LayoutModel",
            "_view_count": null,
            "_view_module": "@jupyter-widgets/base",
            "_view_module_version": "1.2.0",
            "_view_name": "LayoutView",
            "align_content": null,
            "align_items": null,
            "align_self": null,
            "border": null,
            "bottom": null,
            "display": null,
            "flex": null,
            "flex_flow": null,
            "grid_area": null,
            "grid_auto_columns": null,
            "grid_auto_flow": null,
            "grid_auto_rows": null,
            "grid_column": null,
            "grid_gap": null,
            "grid_row": null,
            "grid_template_areas": null,
            "grid_template_columns": null,
            "grid_template_rows": null,
            "height": null,
            "justify_content": null,
            "justify_items": null,
            "left": null,
            "margin": null,
            "max_height": null,
            "max_width": null,
            "min_height": null,
            "min_width": null,
            "object_fit": null,
            "object_position": null,
            "order": null,
            "overflow": null,
            "overflow_x": null,
            "overflow_y": null,
            "padding": null,
            "right": null,
            "top": null,
            "visibility": null,
            "width": null
          }
        },
        "e946e3d917bb4bcbbfeaeb1367cc16d7": {
          "model_module": "@jupyter-widgets/controls",
          "model_name": "DescriptionStyleModel",
          "model_module_version": "1.5.0",
          "state": {
            "_model_module": "@jupyter-widgets/controls",
            "_model_module_version": "1.5.0",
            "_model_name": "DescriptionStyleModel",
            "_view_count": null,
            "_view_module": "@jupyter-widgets/base",
            "_view_module_version": "1.2.0",
            "_view_name": "StyleView",
            "description_width": ""
          }
        },
        "3dd11b3dc8f3409eb8ad6441513d30f2": {
          "model_module": "@jupyter-widgets/controls",
          "model_name": "HBoxModel",
          "model_module_version": "1.5.0",
          "state": {
            "_dom_classes": [],
            "_model_module": "@jupyter-widgets/controls",
            "_model_module_version": "1.5.0",
            "_model_name": "HBoxModel",
            "_view_count": null,
            "_view_module": "@jupyter-widgets/controls",
            "_view_module_version": "1.5.0",
            "_view_name": "HBoxView",
            "box_style": "",
            "children": [
              "IPY_MODEL_148c7dc073fb475f90291f45c68d1a3c",
              "IPY_MODEL_1dd90c948297469eb26e17bf571eac16",
              "IPY_MODEL_95c6980ac9bc485d9e8e2b43a5f24c7b"
            ],
            "layout": "IPY_MODEL_0bd6fa20cdbe43cdb081d2195df269b6"
          }
        },
        "148c7dc073fb475f90291f45c68d1a3c": {
          "model_module": "@jupyter-widgets/controls",
          "model_name": "HTMLModel",
          "model_module_version": "1.5.0",
          "state": {
            "_dom_classes": [],
            "_model_module": "@jupyter-widgets/controls",
            "_model_module_version": "1.5.0",
            "_model_name": "HTMLModel",
            "_view_count": null,
            "_view_module": "@jupyter-widgets/controls",
            "_view_module_version": "1.5.0",
            "_view_name": "HTMLView",
            "description": "",
            "description_tooltip": null,
            "layout": "IPY_MODEL_0e286cfca6444206af4de06c812ed85e",
            "placeholder": "​",
            "style": "IPY_MODEL_b31bbb4129f248f995aecc541192bb5d",
            "value": "Downloading (…)ve/main/spiece.model: 100%"
          }
        },
        "1dd90c948297469eb26e17bf571eac16": {
          "model_module": "@jupyter-widgets/controls",
          "model_name": "FloatProgressModel",
          "model_module_version": "1.5.0",
          "state": {
            "_dom_classes": [],
            "_model_module": "@jupyter-widgets/controls",
            "_model_module_version": "1.5.0",
            "_model_name": "FloatProgressModel",
            "_view_count": null,
            "_view_module": "@jupyter-widgets/controls",
            "_view_module_version": "1.5.0",
            "_view_name": "ProgressView",
            "bar_style": "success",
            "description": "",
            "description_tooltip": null,
            "layout": "IPY_MODEL_004363fbaa654835867dd728d8caeb01",
            "max": 791656,
            "min": 0,
            "orientation": "horizontal",
            "style": "IPY_MODEL_3d9d80eeb85f47979a2b9cb0e0f84517",
            "value": 791656
          }
        },
        "95c6980ac9bc485d9e8e2b43a5f24c7b": {
          "model_module": "@jupyter-widgets/controls",
          "model_name": "HTMLModel",
          "model_module_version": "1.5.0",
          "state": {
            "_dom_classes": [],
            "_model_module": "@jupyter-widgets/controls",
            "_model_module_version": "1.5.0",
            "_model_name": "HTMLModel",
            "_view_count": null,
            "_view_module": "@jupyter-widgets/controls",
            "_view_module_version": "1.5.0",
            "_view_name": "HTMLView",
            "description": "",
            "description_tooltip": null,
            "layout": "IPY_MODEL_09b1918d9b454c63b3188e67ee4b31f2",
            "placeholder": "​",
            "style": "IPY_MODEL_b11958f00fe44e0fabce4000829fd4cb",
            "value": " 792k/792k [00:00&lt;00:00, 27.6MB/s]"
          }
        },
        "0bd6fa20cdbe43cdb081d2195df269b6": {
          "model_module": "@jupyter-widgets/base",
          "model_name": "LayoutModel",
          "model_module_version": "1.2.0",
          "state": {
            "_model_module": "@jupyter-widgets/base",
            "_model_module_version": "1.2.0",
            "_model_name": "LayoutModel",
            "_view_count": null,
            "_view_module": "@jupyter-widgets/base",
            "_view_module_version": "1.2.0",
            "_view_name": "LayoutView",
            "align_content": null,
            "align_items": null,
            "align_self": null,
            "border": null,
            "bottom": null,
            "display": null,
            "flex": null,
            "flex_flow": null,
            "grid_area": null,
            "grid_auto_columns": null,
            "grid_auto_flow": null,
            "grid_auto_rows": null,
            "grid_column": null,
            "grid_gap": null,
            "grid_row": null,
            "grid_template_areas": null,
            "grid_template_columns": null,
            "grid_template_rows": null,
            "height": null,
            "justify_content": null,
            "justify_items": null,
            "left": null,
            "margin": null,
            "max_height": null,
            "max_width": null,
            "min_height": null,
            "min_width": null,
            "object_fit": null,
            "object_position": null,
            "order": null,
            "overflow": null,
            "overflow_x": null,
            "overflow_y": null,
            "padding": null,
            "right": null,
            "top": null,
            "visibility": null,
            "width": null
          }
        },
        "0e286cfca6444206af4de06c812ed85e": {
          "model_module": "@jupyter-widgets/base",
          "model_name": "LayoutModel",
          "model_module_version": "1.2.0",
          "state": {
            "_model_module": "@jupyter-widgets/base",
            "_model_module_version": "1.2.0",
            "_model_name": "LayoutModel",
            "_view_count": null,
            "_view_module": "@jupyter-widgets/base",
            "_view_module_version": "1.2.0",
            "_view_name": "LayoutView",
            "align_content": null,
            "align_items": null,
            "align_self": null,
            "border": null,
            "bottom": null,
            "display": null,
            "flex": null,
            "flex_flow": null,
            "grid_area": null,
            "grid_auto_columns": null,
            "grid_auto_flow": null,
            "grid_auto_rows": null,
            "grid_column": null,
            "grid_gap": null,
            "grid_row": null,
            "grid_template_areas": null,
            "grid_template_columns": null,
            "grid_template_rows": null,
            "height": null,
            "justify_content": null,
            "justify_items": null,
            "left": null,
            "margin": null,
            "max_height": null,
            "max_width": null,
            "min_height": null,
            "min_width": null,
            "object_fit": null,
            "object_position": null,
            "order": null,
            "overflow": null,
            "overflow_x": null,
            "overflow_y": null,
            "padding": null,
            "right": null,
            "top": null,
            "visibility": null,
            "width": null
          }
        },
        "b31bbb4129f248f995aecc541192bb5d": {
          "model_module": "@jupyter-widgets/controls",
          "model_name": "DescriptionStyleModel",
          "model_module_version": "1.5.0",
          "state": {
            "_model_module": "@jupyter-widgets/controls",
            "_model_module_version": "1.5.0",
            "_model_name": "DescriptionStyleModel",
            "_view_count": null,
            "_view_module": "@jupyter-widgets/base",
            "_view_module_version": "1.2.0",
            "_view_name": "StyleView",
            "description_width": ""
          }
        },
        "004363fbaa654835867dd728d8caeb01": {
          "model_module": "@jupyter-widgets/base",
          "model_name": "LayoutModel",
          "model_module_version": "1.2.0",
          "state": {
            "_model_module": "@jupyter-widgets/base",
            "_model_module_version": "1.2.0",
            "_model_name": "LayoutModel",
            "_view_count": null,
            "_view_module": "@jupyter-widgets/base",
            "_view_module_version": "1.2.0",
            "_view_name": "LayoutView",
            "align_content": null,
            "align_items": null,
            "align_self": null,
            "border": null,
            "bottom": null,
            "display": null,
            "flex": null,
            "flex_flow": null,
            "grid_area": null,
            "grid_auto_columns": null,
            "grid_auto_flow": null,
            "grid_auto_rows": null,
            "grid_column": null,
            "grid_gap": null,
            "grid_row": null,
            "grid_template_areas": null,
            "grid_template_columns": null,
            "grid_template_rows": null,
            "height": null,
            "justify_content": null,
            "justify_items": null,
            "left": null,
            "margin": null,
            "max_height": null,
            "max_width": null,
            "min_height": null,
            "min_width": null,
            "object_fit": null,
            "object_position": null,
            "order": null,
            "overflow": null,
            "overflow_x": null,
            "overflow_y": null,
            "padding": null,
            "right": null,
            "top": null,
            "visibility": null,
            "width": null
          }
        },
        "3d9d80eeb85f47979a2b9cb0e0f84517": {
          "model_module": "@jupyter-widgets/controls",
          "model_name": "ProgressStyleModel",
          "model_module_version": "1.5.0",
          "state": {
            "_model_module": "@jupyter-widgets/controls",
            "_model_module_version": "1.5.0",
            "_model_name": "ProgressStyleModel",
            "_view_count": null,
            "_view_module": "@jupyter-widgets/base",
            "_view_module_version": "1.2.0",
            "_view_name": "StyleView",
            "bar_color": null,
            "description_width": ""
          }
        },
        "09b1918d9b454c63b3188e67ee4b31f2": {
          "model_module": "@jupyter-widgets/base",
          "model_name": "LayoutModel",
          "model_module_version": "1.2.0",
          "state": {
            "_model_module": "@jupyter-widgets/base",
            "_model_module_version": "1.2.0",
            "_model_name": "LayoutModel",
            "_view_count": null,
            "_view_module": "@jupyter-widgets/base",
            "_view_module_version": "1.2.0",
            "_view_name": "LayoutView",
            "align_content": null,
            "align_items": null,
            "align_self": null,
            "border": null,
            "bottom": null,
            "display": null,
            "flex": null,
            "flex_flow": null,
            "grid_area": null,
            "grid_auto_columns": null,
            "grid_auto_flow": null,
            "grid_auto_rows": null,
            "grid_column": null,
            "grid_gap": null,
            "grid_row": null,
            "grid_template_areas": null,
            "grid_template_columns": null,
            "grid_template_rows": null,
            "height": null,
            "justify_content": null,
            "justify_items": null,
            "left": null,
            "margin": null,
            "max_height": null,
            "max_width": null,
            "min_height": null,
            "min_width": null,
            "object_fit": null,
            "object_position": null,
            "order": null,
            "overflow": null,
            "overflow_x": null,
            "overflow_y": null,
            "padding": null,
            "right": null,
            "top": null,
            "visibility": null,
            "width": null
          }
        },
        "b11958f00fe44e0fabce4000829fd4cb": {
          "model_module": "@jupyter-widgets/controls",
          "model_name": "DescriptionStyleModel",
          "model_module_version": "1.5.0",
          "state": {
            "_model_module": "@jupyter-widgets/controls",
            "_model_module_version": "1.5.0",
            "_model_name": "DescriptionStyleModel",
            "_view_count": null,
            "_view_module": "@jupyter-widgets/base",
            "_view_module_version": "1.2.0",
            "_view_name": "StyleView",
            "description_width": ""
          }
        },
        "50756673b4d74d52b535de17271d5f7a": {
          "model_module": "@jupyter-widgets/controls",
          "model_name": "HBoxModel",
          "model_module_version": "1.5.0",
          "state": {
            "_dom_classes": [],
            "_model_module": "@jupyter-widgets/controls",
            "_model_module_version": "1.5.0",
            "_model_name": "HBoxModel",
            "_view_count": null,
            "_view_module": "@jupyter-widgets/controls",
            "_view_module_version": "1.5.0",
            "_view_name": "HBoxView",
            "box_style": "",
            "children": [
              "IPY_MODEL_babff25df564436b81d8bca9253afd93",
              "IPY_MODEL_82446217808f41dfba6bdcdf0bd60c74",
              "IPY_MODEL_9f527edea67846a988dcf232186164cc"
            ],
            "layout": "IPY_MODEL_ffac43cd92034a7688e5e28e0558c331"
          }
        },
        "babff25df564436b81d8bca9253afd93": {
          "model_module": "@jupyter-widgets/controls",
          "model_name": "HTMLModel",
          "model_module_version": "1.5.0",
          "state": {
            "_dom_classes": [],
            "_model_module": "@jupyter-widgets/controls",
            "_model_module_version": "1.5.0",
            "_model_name": "HTMLModel",
            "_view_count": null,
            "_view_module": "@jupyter-widgets/controls",
            "_view_module_version": "1.5.0",
            "_view_name": "HTMLView",
            "description": "",
            "description_tooltip": null,
            "layout": "IPY_MODEL_79e8bd2418ac4cfcb42cfd54eeadbcfe",
            "placeholder": "​",
            "style": "IPY_MODEL_6276458eccce43f196eb8e57f4d8644b",
            "value": "Downloading (…)/main/tokenizer.json: "
          }
        },
        "82446217808f41dfba6bdcdf0bd60c74": {
          "model_module": "@jupyter-widgets/controls",
          "model_name": "FloatProgressModel",
          "model_module_version": "1.5.0",
          "state": {
            "_dom_classes": [],
            "_model_module": "@jupyter-widgets/controls",
            "_model_module_version": "1.5.0",
            "_model_name": "FloatProgressModel",
            "_view_count": null,
            "_view_module": "@jupyter-widgets/controls",
            "_view_module_version": "1.5.0",
            "_view_name": "ProgressView",
            "bar_style": "success",
            "description": "",
            "description_tooltip": null,
            "layout": "IPY_MODEL_06aca603bc674579bedf47a4091a794e",
            "max": 1,
            "min": 0,
            "orientation": "horizontal",
            "style": "IPY_MODEL_622e442e25cb4a0a9f0b398f16100334",
            "value": 1
          }
        },
        "9f527edea67846a988dcf232186164cc": {
          "model_module": "@jupyter-widgets/controls",
          "model_name": "HTMLModel",
          "model_module_version": "1.5.0",
          "state": {
            "_dom_classes": [],
            "_model_module": "@jupyter-widgets/controls",
            "_model_module_version": "1.5.0",
            "_model_name": "HTMLModel",
            "_view_count": null,
            "_view_module": "@jupyter-widgets/controls",
            "_view_module_version": "1.5.0",
            "_view_name": "HTMLView",
            "description": "",
            "description_tooltip": null,
            "layout": "IPY_MODEL_17ec7aaa34d541ce889649e3afccd6b2",
            "placeholder": "​",
            "style": "IPY_MODEL_c4fea69d5f5d4c7e86ff119303954b15",
            "value": " 1.39M/? [00:00&lt;00:00, 15.6MB/s]"
          }
        },
        "ffac43cd92034a7688e5e28e0558c331": {
          "model_module": "@jupyter-widgets/base",
          "model_name": "LayoutModel",
          "model_module_version": "1.2.0",
          "state": {
            "_model_module": "@jupyter-widgets/base",
            "_model_module_version": "1.2.0",
            "_model_name": "LayoutModel",
            "_view_count": null,
            "_view_module": "@jupyter-widgets/base",
            "_view_module_version": "1.2.0",
            "_view_name": "LayoutView",
            "align_content": null,
            "align_items": null,
            "align_self": null,
            "border": null,
            "bottom": null,
            "display": null,
            "flex": null,
            "flex_flow": null,
            "grid_area": null,
            "grid_auto_columns": null,
            "grid_auto_flow": null,
            "grid_auto_rows": null,
            "grid_column": null,
            "grid_gap": null,
            "grid_row": null,
            "grid_template_areas": null,
            "grid_template_columns": null,
            "grid_template_rows": null,
            "height": null,
            "justify_content": null,
            "justify_items": null,
            "left": null,
            "margin": null,
            "max_height": null,
            "max_width": null,
            "min_height": null,
            "min_width": null,
            "object_fit": null,
            "object_position": null,
            "order": null,
            "overflow": null,
            "overflow_x": null,
            "overflow_y": null,
            "padding": null,
            "right": null,
            "top": null,
            "visibility": null,
            "width": null
          }
        },
        "79e8bd2418ac4cfcb42cfd54eeadbcfe": {
          "model_module": "@jupyter-widgets/base",
          "model_name": "LayoutModel",
          "model_module_version": "1.2.0",
          "state": {
            "_model_module": "@jupyter-widgets/base",
            "_model_module_version": "1.2.0",
            "_model_name": "LayoutModel",
            "_view_count": null,
            "_view_module": "@jupyter-widgets/base",
            "_view_module_version": "1.2.0",
            "_view_name": "LayoutView",
            "align_content": null,
            "align_items": null,
            "align_self": null,
            "border": null,
            "bottom": null,
            "display": null,
            "flex": null,
            "flex_flow": null,
            "grid_area": null,
            "grid_auto_columns": null,
            "grid_auto_flow": null,
            "grid_auto_rows": null,
            "grid_column": null,
            "grid_gap": null,
            "grid_row": null,
            "grid_template_areas": null,
            "grid_template_columns": null,
            "grid_template_rows": null,
            "height": null,
            "justify_content": null,
            "justify_items": null,
            "left": null,
            "margin": null,
            "max_height": null,
            "max_width": null,
            "min_height": null,
            "min_width": null,
            "object_fit": null,
            "object_position": null,
            "order": null,
            "overflow": null,
            "overflow_x": null,
            "overflow_y": null,
            "padding": null,
            "right": null,
            "top": null,
            "visibility": null,
            "width": null
          }
        },
        "6276458eccce43f196eb8e57f4d8644b": {
          "model_module": "@jupyter-widgets/controls",
          "model_name": "DescriptionStyleModel",
          "model_module_version": "1.5.0",
          "state": {
            "_model_module": "@jupyter-widgets/controls",
            "_model_module_version": "1.5.0",
            "_model_name": "DescriptionStyleModel",
            "_view_count": null,
            "_view_module": "@jupyter-widgets/base",
            "_view_module_version": "1.2.0",
            "_view_name": "StyleView",
            "description_width": ""
          }
        },
        "06aca603bc674579bedf47a4091a794e": {
          "model_module": "@jupyter-widgets/base",
          "model_name": "LayoutModel",
          "model_module_version": "1.2.0",
          "state": {
            "_model_module": "@jupyter-widgets/base",
            "_model_module_version": "1.2.0",
            "_model_name": "LayoutModel",
            "_view_count": null,
            "_view_module": "@jupyter-widgets/base",
            "_view_module_version": "1.2.0",
            "_view_name": "LayoutView",
            "align_content": null,
            "align_items": null,
            "align_self": null,
            "border": null,
            "bottom": null,
            "display": null,
            "flex": null,
            "flex_flow": null,
            "grid_area": null,
            "grid_auto_columns": null,
            "grid_auto_flow": null,
            "grid_auto_rows": null,
            "grid_column": null,
            "grid_gap": null,
            "grid_row": null,
            "grid_template_areas": null,
            "grid_template_columns": null,
            "grid_template_rows": null,
            "height": null,
            "justify_content": null,
            "justify_items": null,
            "left": null,
            "margin": null,
            "max_height": null,
            "max_width": null,
            "min_height": null,
            "min_width": null,
            "object_fit": null,
            "object_position": null,
            "order": null,
            "overflow": null,
            "overflow_x": null,
            "overflow_y": null,
            "padding": null,
            "right": null,
            "top": null,
            "visibility": null,
            "width": "20px"
          }
        },
        "622e442e25cb4a0a9f0b398f16100334": {
          "model_module": "@jupyter-widgets/controls",
          "model_name": "ProgressStyleModel",
          "model_module_version": "1.5.0",
          "state": {
            "_model_module": "@jupyter-widgets/controls",
            "_model_module_version": "1.5.0",
            "_model_name": "ProgressStyleModel",
            "_view_count": null,
            "_view_module": "@jupyter-widgets/base",
            "_view_module_version": "1.2.0",
            "_view_name": "StyleView",
            "bar_color": null,
            "description_width": ""
          }
        },
        "17ec7aaa34d541ce889649e3afccd6b2": {
          "model_module": "@jupyter-widgets/base",
          "model_name": "LayoutModel",
          "model_module_version": "1.2.0",
          "state": {
            "_model_module": "@jupyter-widgets/base",
            "_model_module_version": "1.2.0",
            "_model_name": "LayoutModel",
            "_view_count": null,
            "_view_module": "@jupyter-widgets/base",
            "_view_module_version": "1.2.0",
            "_view_name": "LayoutView",
            "align_content": null,
            "align_items": null,
            "align_self": null,
            "border": null,
            "bottom": null,
            "display": null,
            "flex": null,
            "flex_flow": null,
            "grid_area": null,
            "grid_auto_columns": null,
            "grid_auto_flow": null,
            "grid_auto_rows": null,
            "grid_column": null,
            "grid_gap": null,
            "grid_row": null,
            "grid_template_areas": null,
            "grid_template_columns": null,
            "grid_template_rows": null,
            "height": null,
            "justify_content": null,
            "justify_items": null,
            "left": null,
            "margin": null,
            "max_height": null,
            "max_width": null,
            "min_height": null,
            "min_width": null,
            "object_fit": null,
            "object_position": null,
            "order": null,
            "overflow": null,
            "overflow_x": null,
            "overflow_y": null,
            "padding": null,
            "right": null,
            "top": null,
            "visibility": null,
            "width": null
          }
        },
        "c4fea69d5f5d4c7e86ff119303954b15": {
          "model_module": "@jupyter-widgets/controls",
          "model_name": "DescriptionStyleModel",
          "model_module_version": "1.5.0",
          "state": {
            "_model_module": "@jupyter-widgets/controls",
            "_model_module_version": "1.5.0",
            "_model_name": "DescriptionStyleModel",
            "_view_count": null,
            "_view_module": "@jupyter-widgets/base",
            "_view_module_version": "1.2.0",
            "_view_name": "StyleView",
            "description_width": ""
          }
        },
        "e661587c7e5d45c28abfb16c41cbe52d": {
          "model_module": "@jupyter-widgets/controls",
          "model_name": "HBoxModel",
          "model_module_version": "1.5.0",
          "state": {
            "_dom_classes": [],
            "_model_module": "@jupyter-widgets/controls",
            "_model_module_version": "1.5.0",
            "_model_name": "HBoxModel",
            "_view_count": null,
            "_view_module": "@jupyter-widgets/controls",
            "_view_module_version": "1.5.0",
            "_view_name": "HBoxView",
            "box_style": "",
            "children": [
              "IPY_MODEL_db939eedbed54ba5bd7fc5a737d64a8c",
              "IPY_MODEL_888f29ed66104a9e9af95c87c4e4f363",
              "IPY_MODEL_b5878668ab524c658007c35f8ebd4f88"
            ],
            "layout": "IPY_MODEL_70e82df313a44082aee5c1247eaa92b0"
          }
        },
        "db939eedbed54ba5bd7fc5a737d64a8c": {
          "model_module": "@jupyter-widgets/controls",
          "model_name": "HTMLModel",
          "model_module_version": "1.5.0",
          "state": {
            "_dom_classes": [],
            "_model_module": "@jupyter-widgets/controls",
            "_model_module_version": "1.5.0",
            "_model_name": "HTMLModel",
            "_view_count": null,
            "_view_module": "@jupyter-widgets/controls",
            "_view_module_version": "1.5.0",
            "_view_name": "HTMLView",
            "description": "",
            "description_tooltip": null,
            "layout": "IPY_MODEL_ac28b5a168b649bcb877a60abe19515b",
            "placeholder": "​",
            "style": "IPY_MODEL_7dcac63749ba4026a8372cae64c32873",
            "value": "Downloading model.safetensors: 100%"
          }
        },
        "888f29ed66104a9e9af95c87c4e4f363": {
          "model_module": "@jupyter-widgets/controls",
          "model_name": "FloatProgressModel",
          "model_module_version": "1.5.0",
          "state": {
            "_dom_classes": [],
            "_model_module": "@jupyter-widgets/controls",
            "_model_module_version": "1.5.0",
            "_model_name": "FloatProgressModel",
            "_view_count": null,
            "_view_module": "@jupyter-widgets/controls",
            "_view_module_version": "1.5.0",
            "_view_name": "ProgressView",
            "bar_style": "success",
            "description": "",
            "description_tooltip": null,
            "layout": "IPY_MODEL_099f041069674be78dc9aadf8f9d1098",
            "max": 2950736730,
            "min": 0,
            "orientation": "horizontal",
            "style": "IPY_MODEL_3ee07a7733bf42d398be3f7784cef781",
            "value": 2950736730
          }
        },
        "b5878668ab524c658007c35f8ebd4f88": {
          "model_module": "@jupyter-widgets/controls",
          "model_name": "HTMLModel",
          "model_module_version": "1.5.0",
          "state": {
            "_dom_classes": [],
            "_model_module": "@jupyter-widgets/controls",
            "_model_module_version": "1.5.0",
            "_model_name": "HTMLModel",
            "_view_count": null,
            "_view_module": "@jupyter-widgets/controls",
            "_view_module_version": "1.5.0",
            "_view_name": "HTMLView",
            "description": "",
            "description_tooltip": null,
            "layout": "IPY_MODEL_5667580feb324a57b091e0ecd51d9ef9",
            "placeholder": "​",
            "style": "IPY_MODEL_e06cf37abe3a4864b46da9a3ae42cdf1",
            "value": " 2.95G/2.95G [00:15&lt;00:00, 236MB/s]"
          }
        },
        "70e82df313a44082aee5c1247eaa92b0": {
          "model_module": "@jupyter-widgets/base",
          "model_name": "LayoutModel",
          "model_module_version": "1.2.0",
          "state": {
            "_model_module": "@jupyter-widgets/base",
            "_model_module_version": "1.2.0",
            "_model_name": "LayoutModel",
            "_view_count": null,
            "_view_module": "@jupyter-widgets/base",
            "_view_module_version": "1.2.0",
            "_view_name": "LayoutView",
            "align_content": null,
            "align_items": null,
            "align_self": null,
            "border": null,
            "bottom": null,
            "display": null,
            "flex": null,
            "flex_flow": null,
            "grid_area": null,
            "grid_auto_columns": null,
            "grid_auto_flow": null,
            "grid_auto_rows": null,
            "grid_column": null,
            "grid_gap": null,
            "grid_row": null,
            "grid_template_areas": null,
            "grid_template_columns": null,
            "grid_template_rows": null,
            "height": null,
            "justify_content": null,
            "justify_items": null,
            "left": null,
            "margin": null,
            "max_height": null,
            "max_width": null,
            "min_height": null,
            "min_width": null,
            "object_fit": null,
            "object_position": null,
            "order": null,
            "overflow": null,
            "overflow_x": null,
            "overflow_y": null,
            "padding": null,
            "right": null,
            "top": null,
            "visibility": null,
            "width": null
          }
        },
        "ac28b5a168b649bcb877a60abe19515b": {
          "model_module": "@jupyter-widgets/base",
          "model_name": "LayoutModel",
          "model_module_version": "1.2.0",
          "state": {
            "_model_module": "@jupyter-widgets/base",
            "_model_module_version": "1.2.0",
            "_model_name": "LayoutModel",
            "_view_count": null,
            "_view_module": "@jupyter-widgets/base",
            "_view_module_version": "1.2.0",
            "_view_name": "LayoutView",
            "align_content": null,
            "align_items": null,
            "align_self": null,
            "border": null,
            "bottom": null,
            "display": null,
            "flex": null,
            "flex_flow": null,
            "grid_area": null,
            "grid_auto_columns": null,
            "grid_auto_flow": null,
            "grid_auto_rows": null,
            "grid_column": null,
            "grid_gap": null,
            "grid_row": null,
            "grid_template_areas": null,
            "grid_template_columns": null,
            "grid_template_rows": null,
            "height": null,
            "justify_content": null,
            "justify_items": null,
            "left": null,
            "margin": null,
            "max_height": null,
            "max_width": null,
            "min_height": null,
            "min_width": null,
            "object_fit": null,
            "object_position": null,
            "order": null,
            "overflow": null,
            "overflow_x": null,
            "overflow_y": null,
            "padding": null,
            "right": null,
            "top": null,
            "visibility": null,
            "width": null
          }
        },
        "7dcac63749ba4026a8372cae64c32873": {
          "model_module": "@jupyter-widgets/controls",
          "model_name": "DescriptionStyleModel",
          "model_module_version": "1.5.0",
          "state": {
            "_model_module": "@jupyter-widgets/controls",
            "_model_module_version": "1.5.0",
            "_model_name": "DescriptionStyleModel",
            "_view_count": null,
            "_view_module": "@jupyter-widgets/base",
            "_view_module_version": "1.2.0",
            "_view_name": "StyleView",
            "description_width": ""
          }
        },
        "099f041069674be78dc9aadf8f9d1098": {
          "model_module": "@jupyter-widgets/base",
          "model_name": "LayoutModel",
          "model_module_version": "1.2.0",
          "state": {
            "_model_module": "@jupyter-widgets/base",
            "_model_module_version": "1.2.0",
            "_model_name": "LayoutModel",
            "_view_count": null,
            "_view_module": "@jupyter-widgets/base",
            "_view_module_version": "1.2.0",
            "_view_name": "LayoutView",
            "align_content": null,
            "align_items": null,
            "align_self": null,
            "border": null,
            "bottom": null,
            "display": null,
            "flex": null,
            "flex_flow": null,
            "grid_area": null,
            "grid_auto_columns": null,
            "grid_auto_flow": null,
            "grid_auto_rows": null,
            "grid_column": null,
            "grid_gap": null,
            "grid_row": null,
            "grid_template_areas": null,
            "grid_template_columns": null,
            "grid_template_rows": null,
            "height": null,
            "justify_content": null,
            "justify_items": null,
            "left": null,
            "margin": null,
            "max_height": null,
            "max_width": null,
            "min_height": null,
            "min_width": null,
            "object_fit": null,
            "object_position": null,
            "order": null,
            "overflow": null,
            "overflow_x": null,
            "overflow_y": null,
            "padding": null,
            "right": null,
            "top": null,
            "visibility": null,
            "width": null
          }
        },
        "3ee07a7733bf42d398be3f7784cef781": {
          "model_module": "@jupyter-widgets/controls",
          "model_name": "ProgressStyleModel",
          "model_module_version": "1.5.0",
          "state": {
            "_model_module": "@jupyter-widgets/controls",
            "_model_module_version": "1.5.0",
            "_model_name": "ProgressStyleModel",
            "_view_count": null,
            "_view_module": "@jupyter-widgets/base",
            "_view_module_version": "1.2.0",
            "_view_name": "StyleView",
            "bar_color": null,
            "description_width": ""
          }
        },
        "5667580feb324a57b091e0ecd51d9ef9": {
          "model_module": "@jupyter-widgets/base",
          "model_name": "LayoutModel",
          "model_module_version": "1.2.0",
          "state": {
            "_model_module": "@jupyter-widgets/base",
            "_model_module_version": "1.2.0",
            "_model_name": "LayoutModel",
            "_view_count": null,
            "_view_module": "@jupyter-widgets/base",
            "_view_module_version": "1.2.0",
            "_view_name": "LayoutView",
            "align_content": null,
            "align_items": null,
            "align_self": null,
            "border": null,
            "bottom": null,
            "display": null,
            "flex": null,
            "flex_flow": null,
            "grid_area": null,
            "grid_auto_columns": null,
            "grid_auto_flow": null,
            "grid_auto_rows": null,
            "grid_column": null,
            "grid_gap": null,
            "grid_row": null,
            "grid_template_areas": null,
            "grid_template_columns": null,
            "grid_template_rows": null,
            "height": null,
            "justify_content": null,
            "justify_items": null,
            "left": null,
            "margin": null,
            "max_height": null,
            "max_width": null,
            "min_height": null,
            "min_width": null,
            "object_fit": null,
            "object_position": null,
            "order": null,
            "overflow": null,
            "overflow_x": null,
            "overflow_y": null,
            "padding": null,
            "right": null,
            "top": null,
            "visibility": null,
            "width": null
          }
        },
        "e06cf37abe3a4864b46da9a3ae42cdf1": {
          "model_module": "@jupyter-widgets/controls",
          "model_name": "DescriptionStyleModel",
          "model_module_version": "1.5.0",
          "state": {
            "_model_module": "@jupyter-widgets/controls",
            "_model_module_version": "1.5.0",
            "_model_name": "DescriptionStyleModel",
            "_view_count": null,
            "_view_module": "@jupyter-widgets/base",
            "_view_module_version": "1.2.0",
            "_view_name": "StyleView",
            "description_width": ""
          }
        },
        "36242e8db3944faa8f133a6fb5d25259": {
          "model_module": "@jupyter-widgets/controls",
          "model_name": "HBoxModel",
          "model_module_version": "1.5.0",
          "state": {
            "_dom_classes": [],
            "_model_module": "@jupyter-widgets/controls",
            "_model_module_version": "1.5.0",
            "_model_name": "HBoxModel",
            "_view_count": null,
            "_view_module": "@jupyter-widgets/controls",
            "_view_module_version": "1.5.0",
            "_view_name": "HBoxView",
            "box_style": "",
            "children": [
              "IPY_MODEL_a4eb97261fb942c4a17b686d99be147f",
              "IPY_MODEL_226f850685f943e9b13225399ce29a47",
              "IPY_MODEL_105455802dc3429aa044397152818a4e"
            ],
            "layout": "IPY_MODEL_ad2e5d7e7c30453c8f727b9c7aec51c0"
          }
        },
        "a4eb97261fb942c4a17b686d99be147f": {
          "model_module": "@jupyter-widgets/controls",
          "model_name": "HTMLModel",
          "model_module_version": "1.5.0",
          "state": {
            "_dom_classes": [],
            "_model_module": "@jupyter-widgets/controls",
            "_model_module_version": "1.5.0",
            "_model_name": "HTMLModel",
            "_view_count": null,
            "_view_module": "@jupyter-widgets/controls",
            "_view_module_version": "1.5.0",
            "_view_name": "HTMLView",
            "description": "",
            "description_tooltip": null,
            "layout": "IPY_MODEL_6bd90ae605e5478283aee392a2f6c15f",
            "placeholder": "​",
            "style": "IPY_MODEL_21b9b811ddbf4c4b880832c445feb190",
            "value": "Downloading (…)neration_config.json: 100%"
          }
        },
        "226f850685f943e9b13225399ce29a47": {
          "model_module": "@jupyter-widgets/controls",
          "model_name": "FloatProgressModel",
          "model_module_version": "1.5.0",
          "state": {
            "_dom_classes": [],
            "_model_module": "@jupyter-widgets/controls",
            "_model_module_version": "1.5.0",
            "_model_name": "FloatProgressModel",
            "_view_count": null,
            "_view_module": "@jupyter-widgets/controls",
            "_view_module_version": "1.5.0",
            "_view_name": "ProgressView",
            "bar_style": "success",
            "description": "",
            "description_tooltip": null,
            "layout": "IPY_MODEL_916e5300086742fb9b711ddddca11fb8",
            "max": 147,
            "min": 0,
            "orientation": "horizontal",
            "style": "IPY_MODEL_ca58c90812d740c28b0901a8a600ee80",
            "value": 147
          }
        },
        "105455802dc3429aa044397152818a4e": {
          "model_module": "@jupyter-widgets/controls",
          "model_name": "HTMLModel",
          "model_module_version": "1.5.0",
          "state": {
            "_dom_classes": [],
            "_model_module": "@jupyter-widgets/controls",
            "_model_module_version": "1.5.0",
            "_model_name": "HTMLModel",
            "_view_count": null,
            "_view_module": "@jupyter-widgets/controls",
            "_view_module_version": "1.5.0",
            "_view_name": "HTMLView",
            "description": "",
            "description_tooltip": null,
            "layout": "IPY_MODEL_53c022cf002b433c88b966c9b9d66257",
            "placeholder": "​",
            "style": "IPY_MODEL_014a5737813d494fa4bb70ffa55474ab",
            "value": " 147/147 [00:00&lt;00:00, 8.86kB/s]"
          }
        },
        "ad2e5d7e7c30453c8f727b9c7aec51c0": {
          "model_module": "@jupyter-widgets/base",
          "model_name": "LayoutModel",
          "model_module_version": "1.2.0",
          "state": {
            "_model_module": "@jupyter-widgets/base",
            "_model_module_version": "1.2.0",
            "_model_name": "LayoutModel",
            "_view_count": null,
            "_view_module": "@jupyter-widgets/base",
            "_view_module_version": "1.2.0",
            "_view_name": "LayoutView",
            "align_content": null,
            "align_items": null,
            "align_self": null,
            "border": null,
            "bottom": null,
            "display": null,
            "flex": null,
            "flex_flow": null,
            "grid_area": null,
            "grid_auto_columns": null,
            "grid_auto_flow": null,
            "grid_auto_rows": null,
            "grid_column": null,
            "grid_gap": null,
            "grid_row": null,
            "grid_template_areas": null,
            "grid_template_columns": null,
            "grid_template_rows": null,
            "height": null,
            "justify_content": null,
            "justify_items": null,
            "left": null,
            "margin": null,
            "max_height": null,
            "max_width": null,
            "min_height": null,
            "min_width": null,
            "object_fit": null,
            "object_position": null,
            "order": null,
            "overflow": null,
            "overflow_x": null,
            "overflow_y": null,
            "padding": null,
            "right": null,
            "top": null,
            "visibility": null,
            "width": null
          }
        },
        "6bd90ae605e5478283aee392a2f6c15f": {
          "model_module": "@jupyter-widgets/base",
          "model_name": "LayoutModel",
          "model_module_version": "1.2.0",
          "state": {
            "_model_module": "@jupyter-widgets/base",
            "_model_module_version": "1.2.0",
            "_model_name": "LayoutModel",
            "_view_count": null,
            "_view_module": "@jupyter-widgets/base",
            "_view_module_version": "1.2.0",
            "_view_name": "LayoutView",
            "align_content": null,
            "align_items": null,
            "align_self": null,
            "border": null,
            "bottom": null,
            "display": null,
            "flex": null,
            "flex_flow": null,
            "grid_area": null,
            "grid_auto_columns": null,
            "grid_auto_flow": null,
            "grid_auto_rows": null,
            "grid_column": null,
            "grid_gap": null,
            "grid_row": null,
            "grid_template_areas": null,
            "grid_template_columns": null,
            "grid_template_rows": null,
            "height": null,
            "justify_content": null,
            "justify_items": null,
            "left": null,
            "margin": null,
            "max_height": null,
            "max_width": null,
            "min_height": null,
            "min_width": null,
            "object_fit": null,
            "object_position": null,
            "order": null,
            "overflow": null,
            "overflow_x": null,
            "overflow_y": null,
            "padding": null,
            "right": null,
            "top": null,
            "visibility": null,
            "width": null
          }
        },
        "21b9b811ddbf4c4b880832c445feb190": {
          "model_module": "@jupyter-widgets/controls",
          "model_name": "DescriptionStyleModel",
          "model_module_version": "1.5.0",
          "state": {
            "_model_module": "@jupyter-widgets/controls",
            "_model_module_version": "1.5.0",
            "_model_name": "DescriptionStyleModel",
            "_view_count": null,
            "_view_module": "@jupyter-widgets/base",
            "_view_module_version": "1.2.0",
            "_view_name": "StyleView",
            "description_width": ""
          }
        },
        "916e5300086742fb9b711ddddca11fb8": {
          "model_module": "@jupyter-widgets/base",
          "model_name": "LayoutModel",
          "model_module_version": "1.2.0",
          "state": {
            "_model_module": "@jupyter-widgets/base",
            "_model_module_version": "1.2.0",
            "_model_name": "LayoutModel",
            "_view_count": null,
            "_view_module": "@jupyter-widgets/base",
            "_view_module_version": "1.2.0",
            "_view_name": "LayoutView",
            "align_content": null,
            "align_items": null,
            "align_self": null,
            "border": null,
            "bottom": null,
            "display": null,
            "flex": null,
            "flex_flow": null,
            "grid_area": null,
            "grid_auto_columns": null,
            "grid_auto_flow": null,
            "grid_auto_rows": null,
            "grid_column": null,
            "grid_gap": null,
            "grid_row": null,
            "grid_template_areas": null,
            "grid_template_columns": null,
            "grid_template_rows": null,
            "height": null,
            "justify_content": null,
            "justify_items": null,
            "left": null,
            "margin": null,
            "max_height": null,
            "max_width": null,
            "min_height": null,
            "min_width": null,
            "object_fit": null,
            "object_position": null,
            "order": null,
            "overflow": null,
            "overflow_x": null,
            "overflow_y": null,
            "padding": null,
            "right": null,
            "top": null,
            "visibility": null,
            "width": null
          }
        },
        "ca58c90812d740c28b0901a8a600ee80": {
          "model_module": "@jupyter-widgets/controls",
          "model_name": "ProgressStyleModel",
          "model_module_version": "1.5.0",
          "state": {
            "_model_module": "@jupyter-widgets/controls",
            "_model_module_version": "1.5.0",
            "_model_name": "ProgressStyleModel",
            "_view_count": null,
            "_view_module": "@jupyter-widgets/base",
            "_view_module_version": "1.2.0",
            "_view_name": "StyleView",
            "bar_color": null,
            "description_width": ""
          }
        },
        "53c022cf002b433c88b966c9b9d66257": {
          "model_module": "@jupyter-widgets/base",
          "model_name": "LayoutModel",
          "model_module_version": "1.2.0",
          "state": {
            "_model_module": "@jupyter-widgets/base",
            "_model_module_version": "1.2.0",
            "_model_name": "LayoutModel",
            "_view_count": null,
            "_view_module": "@jupyter-widgets/base",
            "_view_module_version": "1.2.0",
            "_view_name": "LayoutView",
            "align_content": null,
            "align_items": null,
            "align_self": null,
            "border": null,
            "bottom": null,
            "display": null,
            "flex": null,
            "flex_flow": null,
            "grid_area": null,
            "grid_auto_columns": null,
            "grid_auto_flow": null,
            "grid_auto_rows": null,
            "grid_column": null,
            "grid_gap": null,
            "grid_row": null,
            "grid_template_areas": null,
            "grid_template_columns": null,
            "grid_template_rows": null,
            "height": null,
            "justify_content": null,
            "justify_items": null,
            "left": null,
            "margin": null,
            "max_height": null,
            "max_width": null,
            "min_height": null,
            "min_width": null,
            "object_fit": null,
            "object_position": null,
            "order": null,
            "overflow": null,
            "overflow_x": null,
            "overflow_y": null,
            "padding": null,
            "right": null,
            "top": null,
            "visibility": null,
            "width": null
          }
        },
        "014a5737813d494fa4bb70ffa55474ab": {
          "model_module": "@jupyter-widgets/controls",
          "model_name": "DescriptionStyleModel",
          "model_module_version": "1.5.0",
          "state": {
            "_model_module": "@jupyter-widgets/controls",
            "_model_module_version": "1.5.0",
            "_model_name": "DescriptionStyleModel",
            "_view_count": null,
            "_view_module": "@jupyter-widgets/base",
            "_view_module_version": "1.2.0",
            "_view_name": "StyleView",
            "description_width": ""
          }
        }
      }
    }
  },
  "nbformat": 4,
  "nbformat_minor": 0
}